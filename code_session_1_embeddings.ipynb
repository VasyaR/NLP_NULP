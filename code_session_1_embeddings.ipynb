{
 "cells": [
  {
   "cell_type": "code",
   "execution_count": 8,
   "metadata": {},
   "outputs": [],
   "source": [
    "import re\n",
    "import torch"
   ]
  },
  {
   "cell_type": "code",
   "execution_count": 7,
   "metadata": {},
   "outputs": [],
   "source": [
    "Token = str\n",
    "Context = list[Token]\n",
    "Target = Token\n",
    "CONTEXT_SIZE = 2\n",
    "NUM_EPOCH = 10"
   ]
  },
  {
   "cell_type": "code",
   "execution_count": 6,
   "metadata": {},
   "outputs": [],
   "source": [
    "training_text = \"\"\"Algorithms using artificial intelligence are discovering unexpected tricks to solve problems that astonish their developers. But it is also raising concerns about our ability to control them.\n",
    "\n",
    "The gaggle of Google employees peered at their computer screens in bewilderment. They had spent many months honing an algorithm designed to steer an unmanned hot air balloon all the way from Puerto Rico to Peru. But something was wrong. The balloon, controlled by its machine mind, kept veering off course.\n",
    "Salvatore Candido of Google's now-defunct Project Loon venture, which aimed to bring internet access to remote areas via the balloons, couldn't explain the craft’s trajectory. His colleagues manually took control of the system and put it back on track.\n",
    "It was only later that they realised what was happening. Unexpectedly, the artificial intelligence (AI) on board the balloon had learned to recreate an ancient sailing technique first developed by humans centuries, if not thousands of years, ago. \"Tacking\" involves steering a vessel into the wind and then angling outward again so that progress in a zig-zag, roughly in the desired direction, can still be made.\n",
    "\"\"\""
   ]
  },
  {
   "cell_type": "code",
   "execution_count": 13,
   "metadata": {},
   "outputs": [],
   "source": [
    "def tokenize(text):\n",
    "    return re.findall(r'\\b\\w+\\b', text)\n",
    "\n",
    "def preprocess(text):\n",
    "    text  = text.lower()\n",
    "    tokens = tokenize(text)\n",
    "\n",
    "    return tokens\n",
    "\n",
    "def make_training_examples(tokens: list[str], context_size: int) -> tuple[Context, Target]:\n",
    "    for i in range(0, len(tokens) - context_size):\n",
    "        left_context = tokens[i:i + context_size]\n",
    "        target = tokens[i + context_size]\n",
    "        right_context = tokens[i + context_size + 1:i + 2*context_size + 1]\n",
    "        context = left_context + right_context\n",
    "    yield context, target\n",
    "\n",
    "class Vocabulary:\n",
    "    def __init__(self, tokens:list[str]) -> None:\n",
    "        self.vocab = sorted(set(tokens))\n",
    "        self.token_to_index = {token: i for i, token in enumerate(self.vocab)}\n",
    "        self.index_to_token = {i: token for i, token in enumerate(self.vocab)}\n",
    "\n",
    "def vectorize(context: Context, target: Target, vocab: Vocabulary) -> tuple[list[int], int]:\n",
    "    context_vector = [vocab.token_to_index[token] for token in context]\n",
    "    target_vector = vocab.token_to_index[target]\n",
    "    return context_vector, target_vector"
   ]
  },
  {
   "cell_type": "code",
   "execution_count": 15,
   "metadata": {},
   "outputs": [
    {
     "name": "stdout",
     "output_type": "stream",
     "text": [
      "['algorithms', 'using', 'artificial', 'intelligence', 'are', 'discovering', 'unexpected', 'tricks', 'to', 'solve', 'problems', 'that', 'astonish', 'their', 'developers', 'but', 'it', 'is', 'also', 'raising', 'concerns', 'about', 'our', 'ability', 'to', 'control', 'them', 'the', 'gaggle', 'of', 'google', 'employees', 'peered', 'at', 'their', 'computer', 'screens', 'in', 'bewilderment', 'they', 'had', 'spent', 'many', 'months', 'honing', 'an', 'algorithm', 'designed', 'to', 'steer', 'an', 'unmanned', 'hot', 'air', 'balloon', 'all', 'the', 'way', 'from', 'puerto', 'rico', 'to', 'peru', 'but', 'something', 'was', 'wrong', 'the', 'balloon', 'controlled', 'by', 'its', 'machine', 'mind', 'kept', 'veering', 'off', 'course', 'salvatore', 'candido', 'of', 'google', 's', 'now', 'defunct', 'project', 'loon', 'venture', 'which', 'aimed', 'to', 'bring', 'internet', 'access', 'to', 'remote', 'areas', 'via', 'the', 'balloons', 'couldn', 't', 'explain', 'the', 'craft', 's', 'trajectory', 'his', 'colleagues', 'manually', 'took', 'control', 'of', 'the', 'system', 'and', 'put', 'it', 'back', 'on', 'track', 'it', 'was', 'only', 'later', 'that', 'they', 'realised', 'what', 'was', 'happening', 'unexpectedly', 'the', 'artificial', 'intelligence', 'ai', 'on', 'board', 'the', 'balloon', 'had', 'learned', 'to', 'recreate', 'an', 'ancient', 'sailing', 'technique', 'first', 'developed', 'by', 'humans', 'centuries', 'if', 'not', 'thousands', 'of', 'years', 'ago', 'tacking', 'involves', 'steering', 'a', 'vessel', 'into', 'the', 'wind', 'and', 'then', 'angling', 'outward', 'again', 'so', 'that', 'progress', 'in', 'a', 'zig', 'zag', 'roughly', 'in', 'the', 'desired', 'direction', 'can', 'still', 'be', 'made']\n",
      "Epoch 0, epoch_loss = 6.814141273498535\n",
      "Epoch 1, epoch_loss = 1.4584935903549194\n",
      "Epoch 2, epoch_loss = 0.09120205789804459\n",
      "Epoch 3, epoch_loss = 0.06369321048259735\n",
      "Epoch 4, epoch_loss = 0.049310531467199326\n",
      "Epoch 5, epoch_loss = 0.04035641625523567\n",
      "Epoch 6, epoch_loss = 0.034211333841085434\n",
      "Epoch 7, epoch_loss = 0.029718710109591484\n",
      "Epoch 8, epoch_loss = 0.026285236701369286\n",
      "Epoch 9, epoch_loss = 0.023572441190481186\n"
     ]
    }
   ],
   "source": [
    "tokens = preprocess(training_text)\n",
    "vocab = Vocabulary(tokens)\n",
    "\n",
    "print(tokens)\n",
    "\n",
    "V = vocab_size = len(vocab.vocab)\n",
    "N = embed_dim = 16\n",
    "\n",
    "W_in = torch.randn(V, N, requires_grad=True)\n",
    "W_out = torch.randn(N, V, requires_grad=True)\n",
    "\n",
    "optimizer = torch.optim.SGD([W_in, W_out], lr=0.1)\n",
    "\n",
    "for epoch in range(NUM_EPOCH):\n",
    "    epoch_loss = 0\n",
    "    num_examples = 0\n",
    "    for training_example in make_training_examples(tokens, CONTEXT_SIZE):\n",
    "        num_examples += 1\n",
    "        optimizer.zero_grad()\n",
    "        context, target = vectorize(*training_example, vocab)\n",
    "        \n",
    "        hidden = torch.zeros(N)\n",
    "        for c in context:\n",
    "            hidden += W_in[c]\n",
    "\n",
    "        logits = hidden @ W_out # (vocab_size)\n",
    "        log_probs = torch.log_softmax(logits, dim=0)\n",
    "\n",
    "        loss = - log_probs[target] # negative log loglihood (NLLLoss)\n",
    "\n",
    "        loss.backward()\n",
    "        optimizer.step()\n",
    "\n",
    "        epoch_loss += loss.item()\n",
    "    \n",
    "    epoch_loss /= num_examples\n",
    "    print(f\"Epoch {epoch}, epoch_loss = {epoch_loss}\")\n",
    "\n",
    "Wembeddings = W_in + W_out.t()"
   ]
  },
  {
   "cell_type": "code",
   "execution_count": null,
   "metadata": {},
   "outputs": [],
   "source": []
  }
 ],
 "metadata": {
  "kernelspec": {
   "display_name": "NLPenv",
   "language": "python",
   "name": "python3"
  },
  "language_info": {
   "codemirror_mode": {
    "name": "ipython",
    "version": 3
   },
   "file_extension": ".py",
   "mimetype": "text/x-python",
   "name": "python",
   "nbconvert_exporter": "python",
   "pygments_lexer": "ipython3",
   "version": "3.10.12"
  }
 },
 "nbformat": 4,
 "nbformat_minor": 2
}
