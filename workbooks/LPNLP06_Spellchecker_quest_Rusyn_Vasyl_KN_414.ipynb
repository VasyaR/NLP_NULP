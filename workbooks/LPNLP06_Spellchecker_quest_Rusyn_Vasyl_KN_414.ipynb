{
  "nbformat": 4,
  "nbformat_minor": 0,
  "metadata": {
    "colab": {
      "provenance": []
    },
    "kernelspec": {
      "name": "python3",
      "display_name": "Python 3"
    },
    "language_info": {
      "name": "python"
    }
  },
  "cells": [
    {
      "cell_type": "markdown",
      "source": [
        "# Spellchecker quest\n",
        "\n",
        "Хтось наробив помилок у віршах Тараса Шевченка. Наша задача -- виправити ці помилки і прочитати приховане повідомлення.\n",
        "\n",
        "## Задача\n",
        "\n",
        "Ви отримаєте тренувальні та тестувальні дані.\n",
        "\n",
        "Тренувальні дані знаходяться в полі `lab.train_text`. Це звичайний нерозмічений текст. На ньому необхідно натренувати мовну модель. Підійде будь-яка. Я би радив feed-forward нейрону модель з токенізацією по літерах, бо це те, що ми проходили на останній лекції. Але n-грамна теж має спрацювати.\n",
        "\n",
        "Тестувальні дані знаходиться в полі `lab.test_items`. Приклад одного елемента:\n",
        "\n",
        "```json\n",
        "{\n",
        "  \"text\": \"Співали б прозу, та по ножах,\",\n",
        "  \"error_start\": 23,\n",
        "  \"error_end\": 28,\n",
        "  \"error\": \"ножах\",\n",
        "  \"corrections\": [\n",
        "    \"ногах\",\n",
        "    \"йотах\",\n",
        "    \"єнотах\",\n",
        "    \"ножах\",\n",
        "    \"нотах\"\n",
        "  ]\n",
        "}\n",
        "```\n",
        "\n",
        "`error_start` та `error_end` вказують на місцезнаходження помилки в тексті (в символах). У данному прикладі, помилкою є `text[23:28]`, тобто слово \"ножах\".\n",
        "\n",
        "`corrections` -- це список можливих виправлень.\n",
        "\n",
        "Ваша задача -- обрати правильне виправлення серед запропонованих.\n",
        "\n",
        "\n",
        "## Приховане повідомлення\n",
        "\n",
        "Один приклад в `lab.test_items` дає можливість прочитати одну літеру прихованого повідомлення. Для цього знайдіть різницю між літерами слова з помилкою (`error`) та обраним виправленням. Надрукуйте цю літеру. Якщо слово з помилкою направді правильне, а таке теж буває, надрукуйте пробіл. Приклади:\n",
        "\n",
        "```\n",
        "Error               Correction     To print\n",
        "-------------------------------------------\n",
        "привіт               приліт        л\n",
        "пні                  поні          о\n",
        "баллет               балет         л\n",
        "привіт               привіт        (space)\n",
        "```\n",
        "\n",
        "Приховане повідомлення, яке ви побачите в результаті це рядок з віршу одного з українських авторів.\n",
        "\n",
        "Відповідь на квест -- ім'я автора/ки у форматі \"Ім'я Прізвище\".\n",
        "\n",
        "Полетіли! 🚀"
      ],
      "metadata": {
        "id": "L-Z5-FrvSNPR"
      }
    },
    {
      "cell_type": "code",
      "source": [
        "!pip install --quiet --ignore-installed http://nlp.band/static/pypy/lpnlp-2023.10.2-py3-none-any.whl"
      ],
      "metadata": {
        "id": "qa35VG1zj2wR",
        "outputId": "0600c621-7b7d-4baf-ab56-dad5c107f862",
        "colab": {
          "base_uri": "https://localhost:8080/"
        }
      },
      "execution_count": 1,
      "outputs": [
        {
          "output_type": "stream",
          "name": "stdout",
          "text": [
            "\u001b[?25l   \u001b[90m━━━━━━━━━━━━━━━━━━━━━━━━━━━━━━━━━━━━━━━━\u001b[0m \u001b[32m0.0/144.8 kB\u001b[0m \u001b[31m?\u001b[0m eta \u001b[36m-:--:--\u001b[0m\r\u001b[2K   \u001b[91m━━━━━━━━━━━━━━━━━━━━━━━━━━━━━━━━━━━━━━━\u001b[0m\u001b[91m╸\u001b[0m \u001b[32m143.4/144.8 kB\u001b[0m \u001b[31m11.4 MB/s\u001b[0m eta \u001b[36m0:00:01\u001b[0m\r\u001b[2K   \u001b[90m━━━━━━━━━━━━━━━━━━━━━━━━━━━━━━━━━━━━━━━━\u001b[0m \u001b[32m144.8/144.8 kB\u001b[0m \u001b[31m2.6 MB/s\u001b[0m eta \u001b[36m0:00:00\u001b[0m\n",
            "\u001b[?25h"
          ]
        }
      ]
    },
    {
      "cell_type": "code",
      "source": [
        "import lpnlp\n",
        "\n",
        "lab = lpnlp.start(\n",
        "    email=\"vasyl.rusyn.kn.2021@lpnu.ua\",                   # <----------- Заповніть це поле\n",
        "    lab=\"quest_spellchecker\"\n",
        "    )"
      ],
      "metadata": {
        "id": "DjClbL-Hmcaq",
        "outputId": "f44f53f2-e4f7-44d2-ed4d-d9c33e41c2af",
        "colab": {
          "base_uri": "https://localhost:8080/"
        }
      },
      "execution_count": 3,
      "outputs": [
        {
          "output_type": "stream",
          "name": "stdout",
          "text": [
            "Удачі!\n"
          ]
        }
      ]
    },
    {
      "cell_type": "markdown",
      "source": [
        "## Мовна модель\n",
        "\n",
        "Натренуйте свою мовну модель тут"
      ],
      "metadata": {
        "id": "CkQ69irsm_Ci"
      }
    },
    {
      "cell_type": "markdown",
      "source": [
        "#Imports"
      ],
      "metadata": {
        "id": "oRS-i4J9FGSP"
      }
    },
    {
      "cell_type": "code",
      "source": [
        "from tqdm import tqdm\n",
        "import torch\n",
        "from torch import nn\n",
        "from typing import Iterable"
      ],
      "metadata": {
        "id": "mjcvXigqFHg5"
      },
      "execution_count": 14,
      "outputs": []
    },
    {
      "cell_type": "markdown",
      "source": [
        "#Classes"
      ],
      "metadata": {
        "id": "BWEJ1hebE4Ea"
      }
    },
    {
      "cell_type": "code",
      "source": [
        "class Vocabulary:\n",
        "\n",
        "  def __init__(self, tokens, unk_token=\"<unk>\"):\n",
        "    self.unk_token = unk_token\n",
        "    self.unk_index = 0\n",
        "    self._itos = set([unk_token] + tokens)\n",
        "    self._stoi = {token: index for index, token in enumerate(self._itos)}\n",
        "\n",
        "  def stoi(self, token: str) -> int:\n",
        "    \"\"\"Return token index or `<unk>` index if `token` is not in the vocab.\n",
        "    \"\"\"\n",
        "    return self._stoi.get(token, self.unk_index)\n",
        "\n",
        "\n",
        "  def itos(self, index: int) -> str:\n",
        "    \"\"\"Return token by its `index`.\n",
        "\n",
        "    Raise LookupError if `index` is out of vocabulary range.\n",
        "    \"\"\"\n",
        "\n",
        "    return self._itos[index]\n",
        "\n",
        "  @property\n",
        "  def tokens(self):\n",
        "    return self._itos\n",
        "\n",
        "  def __len__(self) -> int:\n",
        "    return len(self._itos)\n",
        "\n",
        "class BengioLMModel(nn.Module):\n",
        "    def __init__(self, vocab_size: int, embed_dim: int, context_len: int, hidden_dim: int) -> None:\n",
        "\n",
        "        super().__init__()\n",
        "\n",
        "        self.vocab_size = vocab_size\n",
        "        self.embed_dim = embed_dim\n",
        "        self.context_len = context_len\n",
        "        self.hidden_dim = hidden_dim\n",
        "\n",
        "        self.embed = nn.Embedding(vocab_size, embed_dim) # vocab_size * embed_dim\n",
        "        self.W = nn.Linear(context_len * embed_dim, hidden_dim)\n",
        "        self.tanh = nn.Tanh()\n",
        "        self.U = nn.Linear(hidden_dim, vocab_size)\n",
        "\n",
        "    def forward(self, X_indexes: torch.tensor):\n",
        "\n",
        "        \"\"\"\n",
        "\n",
        "        Args:\n",
        "            X_indexes: tensor of indexes of context tokens.\n",
        "        \"\"\"\n",
        "\n",
        "        X = self.embed(X_indexes) # [batch_size, context len * embed dim]\n",
        "        e = X.view(-1, self.context_len * self.embed_dim)\n",
        "\n",
        "        h = self.tanh(self.W(e))\n",
        "\n",
        "        logits = self.U(h)\n",
        "\n",
        "        log_probs = torch.log_softmax(logits, dim=-1)\n",
        "\n",
        "        return log_probs"
      ],
      "metadata": {
        "id": "Au9dQQYWE5cz"
      },
      "execution_count": 9,
      "outputs": []
    },
    {
      "cell_type": "markdown",
      "source": [
        "#Helping functions"
      ],
      "metadata": {
        "id": "u8gYVPgpE7Sd"
      }
    },
    {
      "cell_type": "code",
      "source": [
        "def tokenize(text: str) -> [str]:\n",
        "   return list(text.lower())\n",
        "\n",
        "def prepare_data(tokens: [str], context_len: int) -> [([str], str)]:\n",
        "    \"\"\"\n",
        "\n",
        "    Args:\n",
        "        tokens: list of tokens\n",
        "        context_len: length of context\n",
        "\n",
        "    Reurns:\n",
        "        Iterable of (context, target) pairs\n",
        "    \"\"\"\n",
        "    # res = []\n",
        "\n",
        "    for i in range(context_len, len(tokens)):\n",
        "        context = tokens[i - context_len:i]\n",
        "        target = tokens[i]\n",
        "\n",
        "        yield (context, target)\n",
        "\n",
        "def batch_it(xs, batch_size):\n",
        "    batch = []\n",
        "\n",
        "    for i, x in enumerate(xs):\n",
        "        batch.append(x)\n",
        "\n",
        "        if i % batch_size == batch_size - 1:\n",
        "            yield batch\n",
        "            batch = []\n",
        "\n",
        "    if batch:\n",
        "        yield batch\n",
        "\n",
        "def vectorize(tokens: Iterable[str], vocab: Vocabulary) -> torch.tensor:\n",
        "   X = torch.tensor([vocab.stoi(token) for token in tokens])\n",
        "   return X"
      ],
      "metadata": {
        "id": "HGBDrjUdE9WZ"
      },
      "execution_count": 15,
      "outputs": []
    },
    {
      "cell_type": "code",
      "source": [
        "print(lab.train_text[:330])"
      ],
      "metadata": {
        "id": "DsyqC9fPnMGa",
        "outputId": "24fef599-bbe3-4146-e034-e009e4774e14",
        "colab": {
          "base_uri": "https://localhost:8080/"
        }
      },
      "execution_count": 4,
      "outputs": [
        {
          "output_type": "stream",
          "name": "stdout",
          "text": [
            "﻿ПРИЧИННА\r\n",
            "\r\n",
            "Реве та стогне Дніпр широкий,\r\n",
            "Сердитий вітер завива,\r\n",
            "Додолу верби гне високі,\r\n",
            "Горами хвилю підійма.\r\n",
            "І блідий місяць на ту пору\r\n",
            "Із хмари де-де виглядав,\r\n",
            "Неначе човен в синім морі,\r\n",
            "То виринав, то потопав.\r\n",
            "Ще треті півні не співали,\r\n",
            "Ніхто нігде не гомонів,\r\n",
            "Сичі в гаю перекликались,\r\n",
            "Та ясен раз у раз скрипів.\n"
          ]
        }
      ]
    },
    {
      "cell_type": "code",
      "source": [
        "############################################\n",
        "\n",
        "##### Ваш код для тренування моделі тут\n",
        "\n",
        "train_text_tokens = tokenize(lab.train_text)\n",
        "vocab = Vocabulary(train_text_tokens)\n",
        "print(len(vocab))\n",
        "\n",
        "hparams = {\n",
        "        \"vocab_size\": len(vocab),\n",
        "        \"embed_dim\": 128,\n",
        "        \"context_len\": 15,\n",
        "        \"hidden_dim\": 256,\n",
        "        \"learning_rate\": 0.01,\n",
        "        \"num_epochs\": 10,\n",
        "        \"batch_size\": 4096\n",
        "    }\n",
        "\n",
        "model = BengioLMModel(vocab_size=hparams[\"vocab_size\"], embed_dim=hparams[\"embed_dim\"],\n",
        "                          context_len=hparams[\"context_len\"], hidden_dim=hparams[\"hidden_dim\"])\n",
        "\n",
        "optimizer = torch.optim.Adam(model.parameters(), lr=hparams[\"learning_rate\"])\n",
        "loss_fn = nn.NLLLoss()\n",
        "\n",
        "best_loss = 999999\n",
        "eraly_stop = 0\n",
        "\n",
        "for epoch in range(hparams[\"num_epochs\"]):\n",
        "\n",
        "  total_loss = 0.0\n",
        "  examples = prepare_data(train_text_tokens, hparams[\"context_len\"])\n",
        "  examples = list(examples)\n",
        "\n",
        "  for batch in tqdm(batch_it(examples, batch_size=hparams[\"batch_size\"]), leave=False):\n",
        "\n",
        "    X_batch = []\n",
        "    y_batch = []\n",
        "\n",
        "    for context, target in batch:\n",
        "      X = vectorize(context, vocab)\n",
        "      y = vectorize([target], vocab)\n",
        "      X_batch.append(X)\n",
        "      y_batch.append(y)\n",
        "\n",
        "    X_batch = torch.stack(X_batch)\n",
        "    y_batch = torch.tensor(y_batch)\n",
        "\n",
        "    optimizer.zero_grad()\n",
        "\n",
        "    log_probs = model(X_batch)\n",
        "    loss = loss_fn(log_probs, y_batch)\n",
        "\n",
        "    loss.backward()\n",
        "    optimizer.step()\n",
        "    total_loss += loss.sum().item()\n",
        "\n",
        "  print(f\" Epoch: {epoch} Loss: {total_loss / len(examples)}\")\n",
        "\n",
        "  if total_loss / len(examples) < best_loss:\n",
        "    best_loss = total_loss / len(examples)\n",
        "    early_stop = 0\n",
        "\n",
        "  else:\n",
        "    eraly_stop += 1\n",
        "\n",
        "  if early_stop == 3:\n",
        "    break\n",
        "\n",
        "\n",
        "\n",
        "\n",
        "# vocab = ...\n",
        "# model = ...\n",
        "\n",
        "# ...\n",
        "\n",
        "############################################"
      ],
      "metadata": {
        "id": "tFb93XK8ErR7",
        "outputId": "ddcfed8c-2f32-4c09-d1f0-9d0c7b2f7112",
        "colab": {
          "base_uri": "https://localhost:8080/"
        }
      },
      "execution_count": 28,
      "outputs": [
        {
          "output_type": "stream",
          "name": "stdout",
          "text": [
            "82\n"
          ]
        },
        {
          "output_type": "stream",
          "name": "stderr",
          "text": []
        },
        {
          "output_type": "stream",
          "name": "stdout",
          "text": [
            " Epoch: 0 Loss: 0.0006280367939708394\n"
          ]
        },
        {
          "output_type": "stream",
          "name": "stderr",
          "text": []
        },
        {
          "output_type": "stream",
          "name": "stdout",
          "text": [
            " Epoch: 1 Loss: 0.0005592429849966121\n"
          ]
        },
        {
          "output_type": "stream",
          "name": "stderr",
          "text": []
        },
        {
          "output_type": "stream",
          "name": "stdout",
          "text": [
            " Epoch: 2 Loss: 0.0005381619467563101\n"
          ]
        },
        {
          "output_type": "stream",
          "name": "stderr",
          "text": []
        },
        {
          "output_type": "stream",
          "name": "stdout",
          "text": [
            " Epoch: 3 Loss: 0.0005244605601712597\n"
          ]
        },
        {
          "output_type": "stream",
          "name": "stderr",
          "text": []
        },
        {
          "output_type": "stream",
          "name": "stdout",
          "text": [
            " Epoch: 4 Loss: 0.0005142414947379261\n"
          ]
        },
        {
          "output_type": "stream",
          "name": "stderr",
          "text": []
        },
        {
          "output_type": "stream",
          "name": "stdout",
          "text": [
            " Epoch: 5 Loss: 0.0005046109520243945\n"
          ]
        },
        {
          "output_type": "stream",
          "name": "stderr",
          "text": []
        },
        {
          "output_type": "stream",
          "name": "stdout",
          "text": [
            " Epoch: 6 Loss: 0.0004965675858373678\n"
          ]
        },
        {
          "output_type": "stream",
          "name": "stderr",
          "text": []
        },
        {
          "output_type": "stream",
          "name": "stdout",
          "text": [
            " Epoch: 7 Loss: 0.000490119987528845\n"
          ]
        },
        {
          "output_type": "stream",
          "name": "stderr",
          "text": []
        },
        {
          "output_type": "stream",
          "name": "stdout",
          "text": [
            " Epoch: 8 Loss: 0.0004848899140141465\n"
          ]
        },
        {
          "output_type": "stream",
          "name": "stderr",
          "text": [
            "                        "
          ]
        },
        {
          "output_type": "stream",
          "name": "stdout",
          "text": [
            " Epoch: 9 Loss: 0.0004799686655750852\n"
          ]
        },
        {
          "output_type": "stream",
          "name": "stderr",
          "text": [
            "\r"
          ]
        }
      ]
    },
    {
      "cell_type": "markdown",
      "source": [
        "# Читаємо між рядків"
      ],
      "metadata": {
        "id": "USBCYglkn_WO"
      }
    },
    {
      "cell_type": "code",
      "source": [
        "import math\n",
        "import collections\n",
        "from typing import List, Tuple\n",
        "\n",
        "\n",
        "# Допоміжна фунція:\n",
        "def get_letter(w1: str, w2: str) -> str:\n",
        "    \"\"\"Повертає літеру, якої відрізняються слова або пробіл для однакових слів.\n",
        "    \"\"\"\n",
        "\n",
        "    letters1 = collections.Counter(w1)\n",
        "    letters2 = collections.Counter(w2)\n",
        "\n",
        "    diff = letters1 - letters2\n",
        "    if len(diff) != 1:\n",
        "        return \" \"\n",
        "\n",
        "    return diff.most_common()[0][0]\n",
        "\n",
        "\n",
        "def score_text(text: str, model, vocab) -> float:\n",
        "\n",
        "    tokens = tokenize(text)\n",
        "\n",
        "    total_log_prob = 0.0\n",
        "\n",
        "    for context, target in prepare_data(tokens, model.context_len):\n",
        "\n",
        "        X = vectorize(context, vocab)\n",
        "        target = vectorize([target], vocab)[0]\n",
        "        log_probs = model(X)\n",
        "        target_log_prob = log_probs[0, target]\n",
        "        total_log_prob += target_log_prob\n",
        "\n",
        "    return torch.exp(torch.tensor(-total_log_prob / len(tokens))).item()\n",
        "\n",
        "\n",
        "# Можете змінювати параметри та весь цей код, якщо потрібно\n",
        "def solve(model, vocab, test_items) -> Tuple[List[str], str]:\n",
        "    \"\"\"Повертає список виправлених слів для кожного з текстів в test_items та\n",
        "    секретне повідомлення.\n",
        "    \"\"\"\n",
        "\n",
        "    choices = []\n",
        "    secret = []\n",
        "\n",
        "    for item in test_items:\n",
        "        scores = []\n",
        "        for corr in item['corrections']:\n",
        "\n",
        "            # Підставляємо слово-кандидат в текст\n",
        "            text = item['text'][:item['error_start']] + corr + item['text'][item['error_end']:]\n",
        "\n",
        "            # Рахуємо score тексту\n",
        "            score = score_text(text, model, vocab)\n",
        "            scores.append(score)\n",
        "\n",
        "            # print(f'{score:.4f} {text}')\n",
        "\n",
        "        # Сортуємо кандидатів на виправлення за score\n",
        "        result = sorted(zip(scores, item['corrections']), key=lambda x: x[0])\n",
        "\n",
        "        # Обираємо найкращу заміну\n",
        "        best = result[0]\n",
        "        best_word = best[1]\n",
        "        choices.append(best_word)\n",
        "\n",
        "        # Знаходимо чергову літеру повідомлення\n",
        "        error = item['error']\n",
        "        letter = get_letter(error, best_word)\n",
        "        secret.append(letter)\n",
        "\n",
        "    secret_message = ''.join(secret)\n",
        "\n",
        "    return choices, secret_message\n",
        "\n",
        "choices, secret_message = solve(model, vocab, lab.test_items)\n",
        "\n",
        "lab.evaluate_accuracy(choices)\n",
        "print(\"SECRET MESSAGE: \", secret_message)\n"
      ],
      "metadata": {
        "id": "suXDePt3pLZ7",
        "outputId": "244f5ed5-e552-4585-85d8-955af7ed7fb2",
        "colab": {
          "base_uri": "https://localhost:8080/"
        }
      },
      "execution_count": 29,
      "outputs": [
        {
          "output_type": "stream",
          "name": "stderr",
          "text": [
            "<ipython-input-29-3fb6fd3ce320>:35: UserWarning: To copy construct from a tensor, it is recommended to use sourceTensor.clone().detach() or sourceTensor.clone().detach().requires_grad_(True), rather than torch.tensor(sourceTensor).\n",
            "  return torch.exp(torch.tensor(-total_log_prob / len(tokens))).item()\n"
          ]
        },
        {
          "output_type": "stream",
          "name": "stdout",
          "text": [
            "Відповідь правильна ✅\n",
            "accuracy = 0.60. Вже краще. Можеш попрацювати над моделлю ще, а можеш рухатися далі й спробувати розгадати приховане повідомлення\n",
            "SECRET MESSAGE:   к добре т  що смерті  е  о сьія і н  пи  ю ч   я ки  м й хр стсщоч  м боГо е   з кОанеп лонюся в п Редчутті  ед відомихнв рств щои и люб В   н    Б авс зскверн  н на ис   пРокль нувк  тт ин роде   й  о  ебе я щ  верну   В смезті оберн          тя св ї  стр жд нн мяі незл м об  ччям    си  то ілд зе  о пок    сь і чеС   г я улв чесні  во  Ві   і чесними с ь з     б ллюсь\n"
          ]
        }
      ]
    },
    {
      "cell_type": "code",
      "source": [
        "lab.answer(\"Василь Стус\")"
      ],
      "metadata": {
        "id": "S7Hmxf6YqUVR",
        "outputId": "1b6a2a70-6953-482d-f29b-139bbafb7b6e",
        "colab": {
          "base_uri": "https://localhost:8080/"
        }
      },
      "execution_count": 19,
      "outputs": [
        {
          "output_type": "stream",
          "name": "stdout",
          "text": [
            "Відповідь правильна ✅\n",
            "Правильно! 🚀 Заповни тепер цю форму, будь ласка: https://tally.so/r/wkl0zZ\n"
          ]
        }
      ]
    },
    {
      "cell_type": "markdown",
      "source": [
        "Відправте посилання на цей colab або PDF з ним на пошту oleksii.o.syvokon@lpnu.ua. Дякую!\n"
      ],
      "metadata": {
        "id": "VpE_-wtdpkHe"
      }
    }
  ]
}