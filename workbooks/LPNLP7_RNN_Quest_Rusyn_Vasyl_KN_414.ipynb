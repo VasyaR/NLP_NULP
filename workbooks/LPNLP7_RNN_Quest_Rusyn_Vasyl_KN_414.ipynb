{
  "nbformat": 4,
  "nbformat_minor": 0,
  "metadata": {
    "colab": {
      "provenance": []
    },
    "kernelspec": {
      "name": "python3",
      "display_name": "Python 3"
    },
    "language_info": {
      "name": "python"
    }
  },
  "cells": [
    {
      "cell_type": "markdown",
      "source": [
        "# RNN Quest"
      ],
      "metadata": {
        "id": "_Dak_bQPiQeX"
      }
    },
    {
      "cell_type": "code",
      "source": [
        "!pip install --quiet --ignore-installed http://nlp.band/static/pypy/lpnlp-2023.10.2-py3-none-any.whl"
      ],
      "metadata": {
        "id": "RgDkWE8EqxAP",
        "colab": {
          "base_uri": "https://localhost:8080/"
        },
        "outputId": "d5dd7f72-58cf-48f1-ad75-ca41f74dcf2b"
      },
      "execution_count": 1,
      "outputs": [
        {
          "output_type": "stream",
          "name": "stdout",
          "text": [
            "\u001b[?25l   \u001b[90m━━━━━━━━━━━━━━━━━━━━━━━━━━━━━━━━━━━━━━━━\u001b[0m \u001b[32m0.0/64.9 kB\u001b[0m \u001b[31m?\u001b[0m eta \u001b[36m-:--:--\u001b[0m\r\u001b[2K   \u001b[90m━━━━━━━━━━━━━━━━━━━━━━━━━━━━━━━━━━━━━━━━\u001b[0m \u001b[32m64.9/64.9 kB\u001b[0m \u001b[31m2.4 MB/s\u001b[0m eta \u001b[36m0:00:00\u001b[0m\n",
            "\u001b[?25h\u001b[?25l   \u001b[90m━━━━━━━━━━━━━━━━━━━━━━━━━━━━━━━━━━━━━━━━\u001b[0m \u001b[32m0.0/167.3 kB\u001b[0m \u001b[31m?\u001b[0m eta \u001b[36m-:--:--\u001b[0m\r\u001b[2K   \u001b[90m━━━━━━━━━━━━━━━━━━━━━━━━━━━━━━━━━━━━━━━━\u001b[0m \u001b[32m167.3/167.3 kB\u001b[0m \u001b[31m7.9 MB/s\u001b[0m eta \u001b[36m0:00:00\u001b[0m\n",
            "\u001b[?25h\u001b[?25l   \u001b[90m━━━━━━━━━━━━━━━━━━━━━━━━━━━━━━━━━━━━━━━━\u001b[0m \u001b[32m0.0/144.8 kB\u001b[0m \u001b[31m?\u001b[0m eta \u001b[36m-:--:--\u001b[0m\r\u001b[2K   \u001b[90m━━━━━━━━━━━━━━━━━━━━━━━━━━━━━━━━━━━━━━━━\u001b[0m \u001b[32m144.8/144.8 kB\u001b[0m \u001b[31m9.6 MB/s\u001b[0m eta \u001b[36m0:00:00\u001b[0m\n",
            "\u001b[2K   \u001b[90m━━━━━━━━━━━━━━━━━━━━━━━━━━━━━━━━━━━━━━━━\u001b[0m \u001b[32m70.4/70.4 kB\u001b[0m \u001b[31m2.9 MB/s\u001b[0m eta \u001b[36m0:00:00\u001b[0m\n",
            "\u001b[2K   \u001b[90m━━━━━━━━━━━━━━━━━━━━━━━━━━━━━━━━━━━━━━━━\u001b[0m \u001b[32m126.3/126.3 kB\u001b[0m \u001b[31m7.5 MB/s\u001b[0m eta \u001b[36m0:00:00\u001b[0m\n",
            "\u001b[?25h"
          ]
        }
      ]
    },
    {
      "cell_type": "code",
      "source": [
        "import lpnlp\n",
        "\n",
        "lab = lpnlp.start(\n",
        "    email=\"vasyl.rusyn.kn.2021@lpnu.ua\",  # <---- Заповніть це поле\n",
        "    lab=\"quest_rnn\"\n",
        ")\n"
      ],
      "metadata": {
        "id": "Bk4wnk7Eq9o2",
        "colab": {
          "base_uri": "https://localhost:8080/"
        },
        "outputId": "206d010f-fec2-4e48-a6fa-80db88ccb332"
      },
      "execution_count": 2,
      "outputs": [
        {
          "output_type": "stream",
          "name": "stdout",
          "text": [
            "Ваше завдання: http://nlp.band/static/quest-rnn/15736cd29825.zip. Удачі! █\n"
          ]
        }
      ]
    },
    {
      "cell_type": "markdown",
      "source": [
        "1. Завантажте пакет із завданням за посиланням вище ^\n",
        "2. Прочитайте README\n",
        "3. Виконайте завдання\n",
        "  - Завдання не залежить від мови програмування\n",
        "  - Завдання не залежить від фреймоворку. Pytorch, NumPy, Keras або взагалі без сторонніх бібліотек -- все можливо\n",
        "4. Відправте відповідь нижче"
      ],
      "metadata": {
        "id": "HnEFc4gYrPZR"
      }
    },
    {
      "cell_type": "code",
      "source": [
        "# lab.answer(\"\")\n",
        "lab.answer(\"BERT\")"
      ],
      "metadata": {
        "id": "kLtcVwfnrtWN",
        "outputId": "41b23717-5609-4a27-8cbf-234729a36dda",
        "colab": {
          "base_uri": "https://localhost:8080/"
        }
      },
      "execution_count": 6,
      "outputs": [
        {
          "output_type": "stream",
          "name": "stdout",
          "text": [
            "Відповідь правильна ✅\n",
            "You did it! 🚀 Next step: https://tally.so/r/wMXM0p\n"
          ]
        }
      ]
    },
    {
      "cell_type": "code",
      "source": [],
      "metadata": {
        "id": "HgMopnpb1L9H"
      },
      "execution_count": null,
      "outputs": []
    }
  ]
}