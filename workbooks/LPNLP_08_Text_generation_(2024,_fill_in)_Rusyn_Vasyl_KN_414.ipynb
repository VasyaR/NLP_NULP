{
  "cells": [
    {
      "cell_type": "markdown",
      "metadata": {
        "id": "c-tiVIhwDZgF"
      },
      "source": [
        "# Генерація тексту\n",
        "\n",
        "У цій роботі ми використаємо мовну модель для генерації тексту.\n",
        "\n",
        "У класичної мовної моделі є два взаємопов'язані визначення:\n",
        "\n",
        "1. Оцінити ймовірність вхідного тексту.\n",
        "2. Видати ймовірнісний розподіл наступного слова для даного префіксу.\n",
        "\n",
        "Для генерації тексту нам ідеально підходить друге визначення."
      ]
    },
    {
      "cell_type": "markdown",
      "metadata": {
        "id": "n5cdtYXg9ARX"
      },
      "source": [
        "## Початок роботи\n",
        "\n",
        "Будь ласка, заповніть поля `EMAIL`, `NAME` та `GROUP` нижче:"
      ]
    },
    {
      "cell_type": "code",
      "source": [
        "!pip install --quiet --ignore-installed http://nlp.band/static/pypy/lpnlp-2023.10.2-py3-none-any.whl"
      ],
      "metadata": {
        "id": "sEbiQ-LYNANN",
        "outputId": "934cfcc7-bd50-46c7-9e51-0b313202909d",
        "colab": {
          "base_uri": "https://localhost:8080/"
        }
      },
      "execution_count": 1,
      "outputs": [
        {
          "output_type": "stream",
          "name": "stdout",
          "text": [
            "\u001b[?25l   \u001b[90m━━━━━━━━━━━━━━━━━━━━━━━━━━━━━━━━━━━━━━━━\u001b[0m \u001b[32m0.0/64.9 kB\u001b[0m \u001b[31m?\u001b[0m eta \u001b[36m-:--:--\u001b[0m\r\u001b[2K   \u001b[90m━━━━━━━━━━━━━━━━━━━━━━━━━━━━━━━━━━━━━━━━\u001b[0m \u001b[32m64.9/64.9 kB\u001b[0m \u001b[31m3.0 MB/s\u001b[0m eta \u001b[36m0:00:00\u001b[0m\n",
            "\u001b[2K   \u001b[90m━━━━━━━━━━━━━━━━━━━━━━━━━━━━━━━━━━━━━━━━\u001b[0m \u001b[32m167.3/167.3 kB\u001b[0m \u001b[31m6.7 MB/s\u001b[0m eta \u001b[36m0:00:00\u001b[0m\n",
            "\u001b[2K   \u001b[90m━━━━━━━━━━━━━━━━━━━━━━━━━━━━━━━━━━━━━━━━\u001b[0m \u001b[32m144.8/144.8 kB\u001b[0m \u001b[31m3.3 MB/s\u001b[0m eta \u001b[36m0:00:00\u001b[0m\n",
            "\u001b[2K   \u001b[90m━━━━━━━━━━━━━━━━━━━━━━━━━━━━━━━━━━━━━━━━\u001b[0m \u001b[32m70.4/70.4 kB\u001b[0m \u001b[31m1.4 MB/s\u001b[0m eta \u001b[36m0:00:00\u001b[0m\n",
            "\u001b[2K   \u001b[90m━━━━━━━━━━━━━━━━━━━━━━━━━━━━━━━━━━━━━━━━\u001b[0m \u001b[32m126.3/126.3 kB\u001b[0m \u001b[31m4.5 MB/s\u001b[0m eta \u001b[36m0:00:00\u001b[0m\n",
            "\u001b[?25h"
          ]
        }
      ]
    },
    {
      "cell_type": "code",
      "execution_count": 2,
      "metadata": {
        "id": "vuKrzAhF9DS9",
        "outputId": "a50fe512-ef4e-4969-d042-55659926adc8",
        "colab": {
          "base_uri": "https://localhost:8080/"
        }
      },
      "outputs": [
        {
          "output_type": "stream",
          "name": "stdout",
          "text": [
            "Удачі!\n"
          ]
        }
      ],
      "source": [
        "################################################################################\n",
        "# FILL-IN:\n",
        "#-----------------------------------------------------------------------\n",
        "EMAIL = \"vasyl.rusyn.kn.2021@lpnu.ua\"  # заповніть вашим значенням\n",
        "################################################################################\n",
        "\n",
        "import lpnlp\n",
        "\n",
        "lab = lpnlp.start(email=EMAIL, lab=\"text_generation\")"
      ]
    },
    {
      "cell_type": "markdown",
      "metadata": {
        "id": "nIrY-_DL9XRv"
      },
      "source": [
        "### Завантаження моделі\n",
        "\n",
        "Тренування мовної моделі з нуля займає багато часу: від кількох годин або днів для маленьких та середніх моделей й аж до кількох місяців чи навіть років для великих. Звичайно, за рахунок розпаралелювання тренування на багатьох GPU, реальний час рідко буває більше місяця-двох.\n",
        "\n",
        "Для цієї роботи (як і в реальному житті), ми візьмемо претреновану модель. Хтось натренував її за нас. В данному випадку, візьмемо GPT-2 від компанії OpenAI.\n",
        "\n",
        "Ця модель, як і безліч інших, зберігається на [HuggingFace Models](https://huggingface.co/models). Завантажити та працювати з нею зручно через бібліотеку [HuggingFace Transformers](https://github.com/huggingface/transformers/)"
      ]
    },
    {
      "cell_type": "code",
      "source": [
        "!pip install transformers"
      ],
      "metadata": {
        "id": "oTaN8J8w4ddP",
        "outputId": "7b312a8d-17aa-4e9e-d50c-7eda4f5d0f64",
        "colab": {
          "base_uri": "https://localhost:8080/"
        }
      },
      "execution_count": 3,
      "outputs": [
        {
          "output_type": "stream",
          "name": "stdout",
          "text": [
            "Requirement already satisfied: transformers in /usr/local/lib/python3.10/dist-packages (4.44.2)\n",
            "Requirement already satisfied: filelock in /usr/local/lib/python3.10/dist-packages (from transformers) (3.16.1)\n",
            "Requirement already satisfied: huggingface-hub<1.0,>=0.23.2 in /usr/local/lib/python3.10/dist-packages (from transformers) (0.24.7)\n",
            "Requirement already satisfied: numpy>=1.17 in /usr/local/lib/python3.10/dist-packages (from transformers) (1.26.4)\n",
            "Requirement already satisfied: packaging>=20.0 in /usr/local/lib/python3.10/dist-packages (from transformers) (24.1)\n",
            "Requirement already satisfied: pyyaml>=5.1 in /usr/local/lib/python3.10/dist-packages (from transformers) (6.0.2)\n",
            "Requirement already satisfied: regex!=2019.12.17 in /usr/local/lib/python3.10/dist-packages (from transformers) (2024.9.11)\n",
            "Requirement already satisfied: requests in /usr/local/lib/python3.10/dist-packages (from transformers) (2.32.3)\n",
            "Requirement already satisfied: safetensors>=0.4.1 in /usr/local/lib/python3.10/dist-packages (from transformers) (0.4.5)\n",
            "Requirement already satisfied: tokenizers<0.20,>=0.19 in /usr/local/lib/python3.10/dist-packages (from transformers) (0.19.1)\n",
            "Requirement already satisfied: tqdm>=4.27 in /usr/local/lib/python3.10/dist-packages (from transformers) (4.66.5)\n",
            "Requirement already satisfied: fsspec>=2023.5.0 in /usr/local/lib/python3.10/dist-packages (from huggingface-hub<1.0,>=0.23.2->transformers) (2024.6.1)\n",
            "Requirement already satisfied: typing-extensions>=3.7.4.3 in /usr/local/lib/python3.10/dist-packages (from huggingface-hub<1.0,>=0.23.2->transformers) (4.12.2)\n",
            "Requirement already satisfied: charset-normalizer<4,>=2 in /usr/local/lib/python3.10/dist-packages (from requests->transformers) (3.4.0)\n",
            "Requirement already satisfied: idna<4,>=2.5 in /usr/local/lib/python3.10/dist-packages (from requests->transformers) (3.10)\n",
            "Requirement already satisfied: urllib3<3,>=1.21.1 in /usr/local/lib/python3.10/dist-packages (from requests->transformers) (2.2.3)\n",
            "Requirement already satisfied: certifi>=2017.4.17 in /usr/local/lib/python3.10/dist-packages (from requests->transformers) (2024.8.30)\n"
          ]
        }
      ]
    },
    {
      "cell_type": "code",
      "execution_count": 4,
      "metadata": {
        "id": "Oadzovl02gxh"
      },
      "outputs": [],
      "source": [
        "import transformers\n",
        "import torch"
      ]
    },
    {
      "cell_type": "code",
      "execution_count": 5,
      "metadata": {
        "id": "ZpeVt8kn76PY",
        "outputId": "8d1c1eed-1470-45fd-9fce-993d1f78a59a",
        "colab": {
          "base_uri": "https://localhost:8080/",
          "height": 237,
          "referenced_widgets": [
            "8d258b6731c946d89a11bd2097f3a235",
            "6d9943f00c654e2697a9e57e6481a1c8",
            "b05c8cd0922243a9a925c665a868c1bc",
            "8f2d2b99db9343c8aefe316d2fa1f6ba",
            "36b621e0b9a444968cae9a69ffedeb75",
            "295983a14dbb45a69961957e6d9ab8ca",
            "28ade4b0494f4a44be9c41853e5d0d61",
            "cc6a488fd2914bc4a276e88300264225",
            "41e5cdcf5ee6464ebb58a1f0fcc2b5ff",
            "e68c393029d94f2699834bb961c8e1cb",
            "05bbf369c6dd4c04944184a4cc5f18d1",
            "2858b2a4c9ae486b895331b55e52ecf0",
            "d91991719aba47fe88eee84bfd9fd09b",
            "0bc0e295fe49411eaf0a04e0ef55c76d",
            "6adcd1d808ed4ab89736ca3d2fa57298",
            "60ba54a7dc764f21afaee698db4d1c40",
            "5d4a69058c5f4a14bc568c8c1ece591c",
            "73ce7872a60f4427bc8e6ea62fb4d9e7",
            "828372b9675448d89422702ac9163ea5",
            "74b44caecce24b109f9bf15725805c68",
            "3d396db0429640979431763b6738398e",
            "455fca00e1414b3b8c83aa8ce5305864",
            "0233436093bf4981ba0f2f0ae487790e",
            "859d0b9a3b9c4bc48bc7012947d04a5d",
            "381b5907172a48488db4fe6bdcb6c357",
            "1de30c76f40746518d53351e35c1a2ba",
            "d4859f8fb5434eb9a3ad6e7f13c76911",
            "d20be81ee8d44a879bc0913306f62122",
            "966a5b2b803a4458b4afa17b26818486",
            "1b9b247cb1b044f090656be3f4861d5a",
            "92a6dedfe9654eb28dfa32c2ed4600e6",
            "c840ce5f1ee047f789b1414415dc3cc1",
            "8c84132ab1b945a2b89b1393509d0c76"
          ]
        }
      },
      "outputs": [
        {
          "output_type": "stream",
          "name": "stderr",
          "text": [
            "/usr/local/lib/python3.10/dist-packages/huggingface_hub/utils/_token.py:89: UserWarning: \n",
            "The secret `HF_TOKEN` does not exist in your Colab secrets.\n",
            "To authenticate with the Hugging Face Hub, create a token in your settings tab (https://huggingface.co/settings/tokens), set it as secret in your Google Colab and restart your session.\n",
            "You will be able to reuse this secret in all of your notebooks.\n",
            "Please note that authentication is recommended but still optional to access public models or datasets.\n",
            "  warnings.warn(\n"
          ]
        },
        {
          "output_type": "display_data",
          "data": {
            "text/plain": [
              "config.json:   0%|          | 0.00/665 [00:00<?, ?B/s]"
            ],
            "application/vnd.jupyter.widget-view+json": {
              "version_major": 2,
              "version_minor": 0,
              "model_id": "8d258b6731c946d89a11bd2097f3a235"
            }
          },
          "metadata": {}
        },
        {
          "output_type": "display_data",
          "data": {
            "text/plain": [
              "model.safetensors:   0%|          | 0.00/548M [00:00<?, ?B/s]"
            ],
            "application/vnd.jupyter.widget-view+json": {
              "version_major": 2,
              "version_minor": 0,
              "model_id": "2858b2a4c9ae486b895331b55e52ecf0"
            }
          },
          "metadata": {}
        },
        {
          "output_type": "display_data",
          "data": {
            "text/plain": [
              "generation_config.json:   0%|          | 0.00/124 [00:00<?, ?B/s]"
            ],
            "application/vnd.jupyter.widget-view+json": {
              "version_major": 2,
              "version_minor": 0,
              "model_id": "0233436093bf4981ba0f2f0ae487790e"
            }
          },
          "metadata": {}
        }
      ],
      "source": [
        "model = transformers.AutoModelForCausalLM.from_pretrained(\"gpt2\")"
      ]
    },
    {
      "cell_type": "markdown",
      "source": [
        "## Токенізація\n",
        "\n",
        "Кожна модель має словник токенів, з яким вона тренувалася, та правила токенізації (розбиття тексту на токени). Обов'язково слід використовувати той самий словник та метод.\n",
        "\n",
        "Бібліотека transformers вміє робити це для кожної підтримуваної моделі."
      ],
      "metadata": {
        "id": "vaZDEIu85NJ-"
      }
    },
    {
      "cell_type": "code",
      "source": [
        "tokenizer = transformers.AutoTokenizer.from_pretrained(\"gpt2\")"
      ],
      "metadata": {
        "id": "KTKW10u75soH",
        "outputId": "0129010f-af7d-4698-84a5-b04d0f3e5558",
        "colab": {
          "base_uri": "https://localhost:8080/",
          "height": 200,
          "referenced_widgets": [
            "8554fc775ff84c94b13498496c2ed67b",
            "63076a482c2241f68b8c68a160ce30a9",
            "b25e1eb1a7cd4dc0a14c14f7113d907e",
            "ecea3b0bc6924182bb8dd3474314af4d",
            "2d9f66e12e5d46488ccb9b65fdd4c287",
            "f03819ec6b2e4c1ebb74a4595eab9727",
            "349579f3b2454907bc946b2ba9ef3186",
            "95aa0d1374f54975ab2b40c7b699f95a",
            "92b5ff866ea24895ad7954a9c7de8991",
            "5a32791a71b442e8a4feac948f47a459",
            "c4468f49fd3b43a395ed4241573df84b",
            "0677a55b8f38456cadee14e5eabcb6ef",
            "adb5f516990d4a76acddfdc272e0fc3b",
            "fa5c30762cb744ecacf347092fe07f95",
            "954c6aaf01184458a131e1983263a7a3",
            "4c2a5eb4cb2f4bbbb6e06f8bbcaafbb0",
            "9ecb1bc9126040bd8ea0ad76386f83de",
            "986b90afe45e49ea8847ee37ef1568bc",
            "57c2f4a857724bea990977c7cedf361a",
            "453da5df9e2e483d90d7f6b06690f2ef",
            "54b80d83d5f244bb92b0c48543272a7d",
            "2cfa2dccbb5d49f794c46385d5261bb6",
            "8714952651bf470aae9140a12391ba06",
            "dc1114de0071445b8dbe14f15c948955",
            "7846c438e0d5404796cad5485542f15c",
            "759138b66e584f4090c3e3875f39e51c",
            "1308076e2bba407787915584ad83b6ee",
            "bd6cf84681e74b79ad66d709f1563a3e",
            "0677b7f4858d4fa892c08b071868b34a",
            "2a09d34c2f474e2592bd8e682c447d5b",
            "4f6e41232b854d2f95b9520ce7d067d4",
            "f48fd3b7f50342999e8d42b0143d0771",
            "758c27b833f1438c82c4a111c7bd3810",
            "b3407ab9b360460a89a328b08ea4419b",
            "2fcb7361afc4491b990c67aaee70ed87",
            "dc6b290e9ceb4472bd7289ce933ea8bb",
            "d6d01443425547f19f9a13395eb4cde1",
            "4f87e84958f343f9b853ee33bb9420b8",
            "009b58817edf494cb02dfde6a50d966c",
            "0026b48d472446d381169d7a1dc06915",
            "78f69b89a5154ef1868512481362c64b",
            "b35707cd4c014433a27cd5ce0f4d2263",
            "a10ed609cc6a49f2aa76933d906c0925",
            "4c24ed7057e6424eb1d15dc66c61e0d8"
          ]
        }
      },
      "execution_count": 6,
      "outputs": [
        {
          "output_type": "display_data",
          "data": {
            "text/plain": [
              "tokenizer_config.json:   0%|          | 0.00/26.0 [00:00<?, ?B/s]"
            ],
            "application/vnd.jupyter.widget-view+json": {
              "version_major": 2,
              "version_minor": 0,
              "model_id": "8554fc775ff84c94b13498496c2ed67b"
            }
          },
          "metadata": {}
        },
        {
          "output_type": "display_data",
          "data": {
            "text/plain": [
              "vocab.json:   0%|          | 0.00/1.04M [00:00<?, ?B/s]"
            ],
            "application/vnd.jupyter.widget-view+json": {
              "version_major": 2,
              "version_minor": 0,
              "model_id": "0677a55b8f38456cadee14e5eabcb6ef"
            }
          },
          "metadata": {}
        },
        {
          "output_type": "display_data",
          "data": {
            "text/plain": [
              "merges.txt:   0%|          | 0.00/456k [00:00<?, ?B/s]"
            ],
            "application/vnd.jupyter.widget-view+json": {
              "version_major": 2,
              "version_minor": 0,
              "model_id": "8714952651bf470aae9140a12391ba06"
            }
          },
          "metadata": {}
        },
        {
          "output_type": "display_data",
          "data": {
            "text/plain": [
              "tokenizer.json:   0%|          | 0.00/1.36M [00:00<?, ?B/s]"
            ],
            "application/vnd.jupyter.widget-view+json": {
              "version_major": 2,
              "version_minor": 0,
              "model_id": "b3407ab9b360460a89a328b08ea4419b"
            }
          },
          "metadata": {}
        },
        {
          "output_type": "stream",
          "name": "stderr",
          "text": [
            "/usr/local/lib/python3.10/dist-packages/transformers/tokenization_utils_base.py:1601: FutureWarning: `clean_up_tokenization_spaces` was not set. It will be set to `True` by default. This behavior will be depracted in transformers v4.45, and will be then set to `False` by default. For more details check this issue: https://github.com/huggingface/transformers/issues/31884\n",
            "  warnings.warn(\n"
          ]
        }
      ]
    },
    {
      "cell_type": "markdown",
      "source": [
        "Перевіримо токенізатор:"
      ],
      "metadata": {
        "id": "9NHX7-Rk5zwg"
      }
    },
    {
      "cell_type": "code",
      "source": [
        "input_text = \"Hello, LP NLP!\"\n",
        "token_ids = tokenizer.encode(input_text)\n",
        "token_ids"
      ],
      "metadata": {
        "id": "7Nc_Ntq659R9",
        "outputId": "de104f1e-146c-4db8-824c-60990351893d",
        "colab": {
          "base_uri": "https://localhost:8080/"
        }
      },
      "execution_count": 7,
      "outputs": [
        {
          "output_type": "execute_result",
          "data": {
            "text/plain": [
              "[15496, 11, 18470, 399, 19930, 0]"
            ]
          },
          "metadata": {},
          "execution_count": 7
        }
      ]
    },
    {
      "cell_type": "code",
      "source": [
        "tokenizer.convert_ids_to_tokens(token_ids)"
      ],
      "metadata": {
        "id": "JV8NyH1q6I-b",
        "outputId": "5264429d-a266-41b0-96a6-71ef1c44bc9d",
        "colab": {
          "base_uri": "https://localhost:8080/"
        }
      },
      "execution_count": 8,
      "outputs": [
        {
          "output_type": "execute_result",
          "data": {
            "text/plain": [
              "['Hello', ',', 'ĠLP', 'ĠN', 'LP', '!']"
            ]
          },
          "metadata": {},
          "execution_count": 8
        }
      ]
    },
    {
      "cell_type": "markdown",
      "source": [
        "Рідкісні слова будуть розбиті на підслова:"
      ],
      "metadata": {
        "id": "7SFJkiCn60kS"
      }
    },
    {
      "cell_type": "code",
      "source": [
        "tokenizer.convert_ids_to_tokens(tokenizer.encode(\"My name is Oleksiy Syvokon\"))"
      ],
      "metadata": {
        "id": "RxmMsUgo6u7-",
        "outputId": "d8fe503b-e3c5-4f2f-b8e4-fd0d47026adc",
        "colab": {
          "base_uri": "https://localhost:8080/"
        }
      },
      "execution_count": 9,
      "outputs": [
        {
          "output_type": "execute_result",
          "data": {
            "text/plain": [
              "['My', 'Ġname', 'Ġis', 'ĠOle', 'ks', 'iy', 'ĠSy', 'v', 'ok', 'on']"
            ]
          },
          "metadata": {},
          "execution_count": 9
        }
      ]
    },
    {
      "cell_type": "markdown",
      "metadata": {
        "id": "S3Uh8W7wMpwE"
      },
      "source": [
        "## Перевірка моделі -- один крок ітерації"
      ]
    },
    {
      "cell_type": "markdown",
      "metadata": {
        "id": "_LiBLRgyNu32"
      },
      "source": [
        "Ми генеруватимемо текст в циклі токен за токеном, зліва направо. Але для початку розберімо, як виглядає один крок такого циклу.\n"
      ]
    },
    {
      "cell_type": "markdown",
      "metadata": {
        "id": "c9cbLyy3N-u9"
      },
      "source": [
        "На кожному кроці на вхід моделі подаємо ті токени, які вже згенеровано.\n",
        "\n",
        "На першому кроці у нас ще нічого не згенеровано. Тому починаємо зі токену `<BOS>` (\"begin of sentence\"). В різних моделях він виглядає по-різному. Подивимося, що в GPT-2:\n"
      ]
    },
    {
      "cell_type": "code",
      "source": [
        "tokenizer.bos_token"
      ],
      "metadata": {
        "id": "xRVmoPoj0-IR",
        "outputId": "228a9847-c2e3-40af-a866-a28af25e29cf",
        "colab": {
          "base_uri": "https://localhost:8080/",
          "height": 36
        }
      },
      "execution_count": 10,
      "outputs": [
        {
          "output_type": "execute_result",
          "data": {
            "text/plain": [
              "'<|endoftext|>'"
            ],
            "application/vnd.google.colaboratory.intrinsic+json": {
              "type": "string"
            }
          },
          "metadata": {},
          "execution_count": 10
        }
      ]
    },
    {
      "cell_type": "code",
      "source": [
        "tokenizer.bos_token_id"
      ],
      "metadata": {
        "id": "bqnkWMCO3FOS",
        "outputId": "07e64f19-96c1-4def-8295-8629200940dd",
        "colab": {
          "base_uri": "https://localhost:8080/"
        }
      },
      "execution_count": 11,
      "outputs": [
        {
          "output_type": "execute_result",
          "data": {
            "text/plain": [
              "50256"
            ]
          },
          "metadata": {},
          "execution_count": 11
        }
      ]
    },
    {
      "cell_type": "code",
      "execution_count": 12,
      "metadata": {
        "id": "y6z8l1TlRQa-",
        "outputId": "f04ec536-8c73-4793-c050-ca9e936b834d",
        "colab": {
          "base_uri": "https://localhost:8080/"
        }
      },
      "outputs": [
        {
          "output_type": "execute_result",
          "data": {
            "text/plain": [
              "tensor([[50256]])"
            ]
          },
          "metadata": {},
          "execution_count": 12
        }
      ],
      "source": [
        "# Формуємо вхідний батч. Майже завжди для більшої ефективності\n",
        "# нейронні мережі очікують на вхід кілька незалежних речень\n",
        "# (або зображень у випадку з комп'ютерним зором)\n",
        "#\n",
        "# В нашій роботі ми завжди працюємо лише з одним реченням,\n",
        "# тож розмір батча дорівнює одинці. Але все одно маємо\n",
        "# оформити вхід як матрицю:\n",
        "input_ = torch.LongTensor([[tokenizer.bos_token_id]])\n",
        "input_"
      ]
    },
    {
      "cell_type": "code",
      "execution_count": 13,
      "metadata": {
        "id": "vSiBQkJJSGue",
        "outputId": "30d9c01a-9a9a-4eb3-eaf3-872086b33554",
        "colab": {
          "base_uri": "https://localhost:8080/"
        }
      },
      "outputs": [
        {
          "output_type": "execute_result",
          "data": {
            "text/plain": [
              "torch.Size([1, 1, 50257])"
            ]
          },
          "metadata": {},
          "execution_count": 13
        }
      ],
      "source": [
        "# Нарешті робимо крок генерації\n",
        "output = model(input_, return_dict=True)\n",
        "\n",
        "# На виході модель повертає вектор з logits -- ненормалізованими\n",
        "# ймовірностями кожного токена в словнику\n",
        "output.logits.shape"
      ]
    },
    {
      "cell_type": "markdown",
      "source": [
        "Чому маємо саме таку розмірність?\n",
        "\n",
        "* Перша одиниця -- розмір батча, тобто кількість вхідних речень.\n",
        "* Друга одиниця -- це довжина вхідної послідовності. На першому кроці ми подали лише один токен (bos_token)\n",
        "* 50257 -- це розмір словника"
      ],
      "metadata": {
        "id": "Ckux9YLV4viE"
      }
    },
    {
      "cell_type": "code",
      "source": [
        "tokenizer.vocab_size"
      ],
      "metadata": {
        "id": "P_YkZjZl5MoV",
        "outputId": "995c8bfe-3388-40db-8291-05fd4dbf1631",
        "colab": {
          "base_uri": "https://localhost:8080/"
        }
      },
      "execution_count": 14,
      "outputs": [
        {
          "output_type": "execute_result",
          "data": {
            "text/plain": [
              "50257"
            ]
          },
          "metadata": {},
          "execution_count": 14
        }
      ]
    },
    {
      "cell_type": "markdown",
      "metadata": {
        "id": "xNoTYS-1Sr2y"
      },
      "source": [
        "Поки що модель повернула не ймовірності, а просто якісь числа. Їм треба нормалізувати функцією softmax:"
      ]
    },
    {
      "cell_type": "code",
      "source": [
        "probs = torch.softmax(output.logits, dim=-1)"
      ],
      "metadata": {
        "id": "GNlOw5qT3wXP"
      },
      "execution_count": 15,
      "outputs": []
    },
    {
      "cell_type": "code",
      "execution_count": 16,
      "metadata": {
        "id": "dMCovI7uS1N8",
        "outputId": "4f21cad6-0cee-4b58-9e31-fe0b7729d0d3",
        "colab": {
          "base_uri": "https://localhost:8080/"
        }
      },
      "outputs": [
        {
          "output_type": "execute_result",
          "data": {
            "text/plain": [
              "torch.Size([1, 1, 50257])"
            ]
          },
          "metadata": {},
          "execution_count": 16
        }
      ],
      "source": [
        "# Розмірність має збігатися з розміром словника\n",
        "probs.shape"
      ]
    },
    {
      "cell_type": "code",
      "execution_count": 17,
      "metadata": {
        "id": "_1H8iIaSTHJl",
        "outputId": "ca275bf9-f87e-4727-8f36-f97e667bdc0d",
        "colab": {
          "base_uri": "https://localhost:8080/"
        }
      },
      "outputs": [
        {
          "output_type": "execute_result",
          "data": {
            "text/plain": [
              "tensor(1.0000, grad_fn=<SumBackward0>)"
            ]
          },
          "metadata": {},
          "execution_count": 17
        }
      ],
      "source": [
        "# Сума ймовірностей має дорівнювати 1.0\n",
        "probs.sum()"
      ]
    },
    {
      "cell_type": "markdown",
      "source": [
        "Ймовірності можуть ставати дуже маленькими та причиняти проблеми у зв'язку з обмеженою точністю float чисел. Тому прийнято працювати з логарифмами ймовірностей."
      ],
      "metadata": {
        "id": "jUzNuPn15o7y"
      }
    },
    {
      "cell_type": "code",
      "source": [
        "log_probs = torch.log_softmax(output.logits, dim=-1)\n",
        "\n",
        "# Щоб перейти до звичайних ймовірностей, маємо зробити експоненціювання\n",
        "log_probs.exp().sum()"
      ],
      "metadata": {
        "id": "sAN57ZiW5-75",
        "outputId": "56cef043-92c0-4749-bdff-332bb67c5fd6",
        "colab": {
          "base_uri": "https://localhost:8080/"
        }
      },
      "execution_count": 18,
      "outputs": [
        {
          "output_type": "execute_result",
          "data": {
            "text/plain": [
              "tensor(1., grad_fn=<SumBackward0>)"
            ]
          },
          "metadata": {},
          "execution_count": 18
        }
      ]
    },
    {
      "cell_type": "markdown",
      "source": [
        "Кожному слову в словнику відповідає своя ймовірність бути побаченим\n",
        "після заданого префікса. Префіксом у нас поки що був лише одни `bos_token`.\n"
      ],
      "metadata": {
        "id": "ZYdd1kQv6kYU"
      }
    },
    {
      "cell_type": "code",
      "execution_count": 19,
      "metadata": {
        "id": "kA1iznWPTdK4",
        "outputId": "e7f27ec5-d04b-47fc-aa2f-6200bdcef9d3",
        "colab": {
          "base_uri": "https://localhost:8080/"
        }
      },
      "outputs": [
        {
          "output_type": "stream",
          "name": "stdout",
          "text": [
            "P(I) = 0.01832086220383644\n",
            "P(red) = 0.00010652346827555448\n",
            "P(Why) = 0.0008686604560352862\n"
          ]
        }
      ],
      "source": [
        "# Яка ймовірність, що речення почнеться зі слів \"I\", \"red\", \"Why\"?\n",
        "for word in (\"I\", \"red\", \"Why\"):\n",
        "    index = tokenizer.convert_tokens_to_ids(word)\n",
        "    prob = log_probs[0, 0, index].exp()\n",
        "    print(f\"P({word}) = {prob}\")"
      ]
    },
    {
      "cell_type": "markdown",
      "metadata": {
        "id": "kaoCr91RTw4Z"
      },
      "source": [
        "Тепер ми маємо ймовірностний розподіл по словнику. Можемо обрати слово, яке вважатимемо згенерованим. Тут можливі кілька стратегій, які ми розглянемо в наступних розділах."
      ]
    },
    {
      "cell_type": "markdown",
      "metadata": {
        "id": "wUbajoW_-ClA"
      },
      "source": [
        "## Greedy decoding"
      ]
    },
    {
      "cell_type": "markdown",
      "metadata": {
        "id": "9yOkcB3FUd3N"
      },
      "source": [
        "Найпростіший (але й не дуже цікавий) спосіб -- це завжди обирати токен з найбільшою ймовірністю:"
      ]
    },
    {
      "cell_type": "code",
      "execution_count": 20,
      "metadata": {
        "id": "wG7QsAjPUoHW",
        "outputId": "dc5bed11-cfa3-4fc4-ee1b-b4bf1f8dc2c6",
        "colab": {
          "base_uri": "https://localhost:8080/"
        }
      },
      "outputs": [
        {
          "output_type": "execute_result",
          "data": {
            "text/plain": [
              "tensor(198)"
            ]
          },
          "metadata": {},
          "execution_count": 20
        }
      ],
      "source": [
        "next_token_id = log_probs.argmax()\n",
        "next_token_id"
      ]
    },
    {
      "cell_type": "code",
      "execution_count": 21,
      "metadata": {
        "id": "Z87pe4Y0VJ1W",
        "outputId": "0fb59a39-c8d2-4c25-f31b-263800f81c30",
        "colab": {
          "base_uri": "https://localhost:8080/"
        }
      },
      "outputs": [
        {
          "output_type": "execute_result",
          "data": {
            "text/plain": [
              "tensor(0.0623, grad_fn=<SelectBackward0>)"
            ]
          },
          "metadata": {},
          "execution_count": 21
        }
      ],
      "source": [
        "probs[-1, -1, 198]"
      ]
    },
    {
      "cell_type": "code",
      "execution_count": 22,
      "metadata": {
        "id": "WaZRZWpAUtNY",
        "outputId": "ba935956-decf-4b66-a360-1bfd1b264786",
        "colab": {
          "base_uri": "https://localhost:8080/"
        }
      },
      "outputs": [
        {
          "output_type": "execute_result",
          "data": {
            "text/plain": [
              "['Ċ']"
            ]
          },
          "metadata": {},
          "execution_count": 22
        }
      ],
      "source": [
        "tokenizer.convert_ids_to_tokens([next_token_id])  # Наш перший згенерований токен"
      ]
    },
    {
      "cell_type": "markdown",
      "metadata": {
        "id": "YVB5pXOoX29S"
      },
      "source": [
        "Зберемо код докупи та додамо цикл. В циклі ми продовжуватимемо генерувати текст токен за токеном, поки не настане одна з двох умов:\n",
        "1. Модель видала спецальний токен `eos_token` (end of sentence)\n",
        "2. Довжина згенерованого тексту перевищила певний поріг `max_len`\n",
        "\n",
        "У хорошої моделі в більшості випадків має спрацьовувати перша умова зупинки. Проте іноді модель може впасти в безкінчений цикл. Щоб цьому запобігти, маємо другу умову."
      ]
    },
    {
      "cell_type": "code",
      "execution_count": 33,
      "metadata": {
        "id": "cG8nI5WG-Qb5"
      },
      "outputs": [],
      "source": [
        "@torch.no_grad()\n",
        "def greedy_decode(model, tokenizer, max_len=50):\n",
        "    start_index = tokenizer.bos_token_id\n",
        "    result = [start_index]\n",
        "\n",
        "    while len(result) < max_len:\n",
        "\n",
        "        # Передбачення ймовірностней наступного токена\n",
        "        input_ = torch.LongTensor([result])\n",
        "        output = model(input_, return_dict=True)\n",
        "        log_probs = torch.log_softmax(output.logits[0, -1], dim=-1)\n",
        "\n",
        "        # Обираємо токен, що має найбільшу ймовірність\n",
        "        token_index = log_probs.argmax()\n",
        "        # new_token = tokenizer.convert_ids_to_tokens(token_index)\n",
        "\n",
        "        # Зупиняємося, якщо досягли кінця\n",
        "        if token_index == tokenizer.eos_token_id:\n",
        "          break\n",
        "\n",
        "        # Додаємо обраний токен в згенерований текст\n",
        "        result.append(token_index.item())\n",
        "\n",
        "    return result\n",
        "\n",
        "\n",
        "generated_token_ids = greedy_decode(model, tokenizer)"
      ]
    },
    {
      "cell_type": "markdown",
      "source": [
        "Маємо список згенерованих індексів токенів, який починається ось так:"
      ],
      "metadata": {
        "id": "4myF4KrG-rxZ"
      }
    },
    {
      "cell_type": "code",
      "source": [
        "generated_token_ids[:10]"
      ],
      "metadata": {
        "id": "FXp0P-Yz-0UG",
        "outputId": "bf5e9b6d-c6a9-4973-f4b8-125c54740a43",
        "colab": {
          "base_uri": "https://localhost:8080/"
        }
      },
      "execution_count": 34,
      "outputs": [
        {
          "output_type": "execute_result",
          "data": {
            "text/plain": [
              "[50256, 198, 464, 717, 640, 314, 2497, 262, 649, 2196]"
            ]
          },
          "metadata": {},
          "execution_count": 34
        }
      ]
    },
    {
      "cell_type": "markdown",
      "source": [
        "Перетворимо їх в текст:"
      ],
      "metadata": {
        "id": "ANlG9v8--8Fa"
      }
    },
    {
      "cell_type": "code",
      "source": [
        "tokens = tokenizer.convert_ids_to_tokens(generated_token_ids)\n",
        "tokens[:10]"
      ],
      "metadata": {
        "id": "t7X6m4vs91IJ",
        "outputId": "f627b56a-3d26-473f-deb6-9b60e83f3e04",
        "colab": {
          "base_uri": "https://localhost:8080/"
        }
      },
      "execution_count": 35,
      "outputs": [
        {
          "output_type": "execute_result",
          "data": {
            "text/plain": [
              "['<|endoftext|>',\n",
              " 'Ċ',\n",
              " 'The',\n",
              " 'Ġfirst',\n",
              " 'Ġtime',\n",
              " 'ĠI',\n",
              " 'Ġsaw',\n",
              " 'Ġthe',\n",
              " 'Ġnew',\n",
              " 'Ġversion']"
            ]
          },
          "metadata": {},
          "execution_count": 35
        }
      ]
    },
    {
      "cell_type": "code",
      "source": [
        "generated_text = \"\".join(tokens)\n",
        "generated_text"
      ],
      "metadata": {
        "id": "vde2_-J1_JDv",
        "outputId": "a99a409d-1707-4a81-fe46-a48da75420b3",
        "colab": {
          "base_uri": "https://localhost:8080/",
          "height": 53
        }
      },
      "execution_count": 36,
      "outputs": [
        {
          "output_type": "execute_result",
          "data": {
            "text/plain": [
              "'<|endoftext|>ĊTheĠfirstĠtimeĠIĠsawĠtheĠnewĠversionĠofĠtheĠgame,ĠIĠwasĠsoĠexcited.ĠIĠwasĠsoĠexcitedĠtoĠseeĠtheĠnewĠversionĠofĠtheĠgame,ĠIĠwasĠsoĠexcitedĠtoĠseeĠtheĠnewĠversionĠofĠtheĠgame,ĠIĠwasĠsoĠexcitedĠto'"
            ],
            "application/vnd.google.colaboratory.intrinsic+json": {
              "type": "string"
            }
          },
          "metadata": {},
          "execution_count": 36
        }
      ]
    },
    {
      "cell_type": "code",
      "execution_count": 37,
      "metadata": {
        "id": "Qv0i3pqdJ3Bn",
        "outputId": "62e91e1e-23b3-440d-b83c-cbbef8970ef8",
        "colab": {
          "base_uri": "https://localhost:8080/",
          "height": 88
        }
      },
      "outputs": [
        {
          "output_type": "stream",
          "name": "stdout",
          "text": [
            "Відповідь правильна ✅\n",
            "\n"
          ]
        },
        {
          "output_type": "execute_result",
          "data": {
            "text/plain": [
              "'<|endoftext|>ĊTheĠfirstĠtimeĠIĠsawĠtheĠnewĠversionĠofĠtheĠgame,ĠIĠwasĠsoĠexcited.ĠIĠwasĠsoĠexcitedĠtoĠseeĠtheĠnewĠversionĠofĠtheĠgame,ĠIĠwasĠsoĠexcitedĠtoĠseeĠtheĠnewĠversionĠofĠtheĠgame,ĠIĠwasĠsoĠexcitedĠto'"
            ],
            "application/vnd.google.colaboratory.intrinsic+json": {
              "type": "string"
            }
          },
          "metadata": {},
          "execution_count": 37
        }
      ],
      "source": [
        "lab.checkpoint(\"greedy decode\", generated_text)"
      ]
    },
    {
      "cell_type": "markdown",
      "metadata": {
        "id": "9GN1tc5kYsOk"
      },
      "source": [
        "### Примітка: Byte-pair encoding (BPE)\n",
        "\n",
        "Наша модель використовує subword токенізацію, а саме byte-pair encoding (BPE). В сучасному NLP це найрозповсюдженіший спосіб токенізації. Детально можете подивитися в [цьому відео](https://www.youtube.com/watch?v=tOMjTCO0htA).\n",
        "\n",
        "Для наших цілей зараз важливо, що BPE заміняє пробіли на спеціальні Unicode-символи \"Ġ\". Серед інших моделей широко поширений варіант \"▁\" (зверніть увагу, це не звичайний символ підкреслення \"_\"). Щоб отримати чистий текст, треба виконати наступну заміну:"
      ]
    },
    {
      "cell_type": "code",
      "execution_count": 38,
      "metadata": {
        "id": "5S_BPCLY_V9h",
        "outputId": "ba8cac75-ed95-4e27-8d6d-365a0e25aad2",
        "colab": {
          "base_uri": "https://localhost:8080/",
          "height": 53
        }
      },
      "outputs": [
        {
          "output_type": "execute_result",
          "data": {
            "text/plain": [
              "'<|endoftext|>\\nThe first time I saw the new version of the game, I was so excited. I was so excited to see the new version of the game, I was so excited to see the new version of the game, I was so excited to'"
            ],
            "application/vnd.google.colaboratory.intrinsic+json": {
              "type": "string"
            }
          },
          "metadata": {},
          "execution_count": 38
        }
      ],
      "source": [
        "def bpe_decode(s):\n",
        "    result = s.replace(\"Ġ\", \" \")\n",
        "    result = result.replace(\"Ċ\", \"\\n\")\n",
        "    return result\n",
        "\n",
        "bpe_decode(generated_text)"
      ]
    },
    {
      "cell_type": "markdown",
      "source": [
        "Але краще довіритися токенізатору й зробити цю роботу за нас:"
      ],
      "metadata": {
        "id": "42kMbpie_3cb"
      }
    },
    {
      "cell_type": "code",
      "source": [
        "tokenizer.convert_tokens_to_string(tokens)"
      ],
      "metadata": {
        "id": "oycMPnuo__po",
        "outputId": "0c99ecc4-6edf-46ee-b1ad-c5ba8592ae26",
        "colab": {
          "base_uri": "https://localhost:8080/",
          "height": 53
        }
      },
      "execution_count": 39,
      "outputs": [
        {
          "output_type": "execute_result",
          "data": {
            "text/plain": [
              "'<|endoftext|>\\nThe first time I saw the new version of the game, I was so excited. I was so excited to see the new version of the game, I was so excited to see the new version of the game, I was so excited to'"
            ],
            "application/vnd.google.colaboratory.intrinsic+json": {
              "type": "string"
            }
          },
          "metadata": {},
          "execution_count": 39
        }
      ]
    },
    {
      "cell_type": "markdown",
      "metadata": {
        "id": "vK0wKs4IAk4l"
      },
      "source": [
        "## Generic decoding function\n",
        "\n",
        "Обирати слово з найбільшою ймовірністю -- не найкращий варіант для генерації тексту хоча б тому, що він завжди детерміновано призводить до однієї послідовності. Нижче ми подивимося на цікавіші альтернативи.\n",
        "\n",
        "Цикл генерації залишиться той самий, що і в `greedy_decode()`. Відрізнятися буде лише один рядок -- той, в якому ми приймали рішення, яке слово обрати. Для зручності, винесемо цей рядок в окрему функцію. Ця функція прийматиме на вхід ймовірностний розподіл по словнику і повертає обраний токен."
      ]
    },
    {
      "cell_type": "code",
      "execution_count": 40,
      "metadata": {
        "id": "8KQ_8Mky9enZ"
      },
      "outputs": [],
      "source": [
        "def greedy_choice(probs):\n",
        "    return probs.argmax()"
      ]
    },
    {
      "cell_type": "markdown",
      "metadata": {
        "id": "XmH11o729oQL"
      },
      "source": [
        "Функцію генерації також трохи переробимо.\n",
        "\n",
        "По-перше, додамо параметр `sample_fn` -- це має бути функція, яка обирає слово з ймовірностного розподілу, наприклад, `greedy_choice`.\n",
        "\n",
        "По-друге, для зручності виконуватимемо BPE декодинг у середині функції генерації."
      ]
    },
    {
      "cell_type": "code",
      "execution_count": 46,
      "metadata": {
        "id": "7eEGscC5Amzw",
        "outputId": "1907797f-d516-4d58-fda8-4dc63ad755c8",
        "colab": {
          "base_uri": "https://localhost:8080/",
          "height": 53
        }
      },
      "outputs": [
        {
          "output_type": "execute_result",
          "data": {
            "text/plain": [
              "'<|endoftext|>\\nThe first time I saw the new version of the game, I was so excited. I was so excited to see the new version of the game, I was so excited to see the new version of the game, I was so excited to'"
            ],
            "application/vnd.google.colaboratory.intrinsic+json": {
              "type": "string"
            }
          },
          "metadata": {},
          "execution_count": 46
        }
      ],
      "source": [
        "@torch.no_grad()\n",
        "def generate(model, tokenizer, sample_fn, max_len=50, bpe_decode=True):\n",
        "    start_index = tokenizer.bos_token_id\n",
        "    result = [start_index]\n",
        "\n",
        "    while len(result) < max_len:\n",
        "\n",
        "        # Передбачення ймовірностней наступного токена\n",
        "        input_ = torch.LongTensor([result])\n",
        "        output = model(input_, return_dict=True)\n",
        "        log_probs = torch.log_softmax(output.logits[0, -1], dim=-1)\n",
        "\n",
        "        # Обираємо токен, що має найбільшу ймовірність\n",
        "        token_index = sample_fn(log_probs.exp())     # <---------------- цей рядок змінено\n",
        "\n",
        "        # Зупиняємося, якщо досягнули кінця\n",
        "        if token_index == tokenizer.eos_token_id:\n",
        "          break\n",
        "\n",
        "        # Додаємо обраний токен в згенерований текст\n",
        "        result.append(token_index.item())\n",
        "\n",
        "    if bpe_decode:\n",
        "        tokens = tokenizer.convert_ids_to_tokens(result)\n",
        "        result = tokenizer.convert_tokens_to_string(tokens)\n",
        "\n",
        "    return result\n",
        "\n",
        "\n",
        "generate(model, tokenizer, greedy_choice)"
      ]
    },
    {
      "cell_type": "markdown",
      "metadata": {
        "id": "GXHiIrfZAnpW"
      },
      "source": [
        "## Simple sampling"
      ]
    },
    {
      "cell_type": "markdown",
      "metadata": {
        "id": "7bbdLT96Bd8c"
      },
      "source": [
        "Перший альтернатива -- це sampling. Тепер ми обираємо наступний токен випадково, але пропорційно до ймовірностей."
      ]
    },
    {
      "cell_type": "code",
      "execution_count": 47,
      "metadata": {
        "id": "01Y-djIkAsGB",
        "outputId": "adec37ac-d199-4c7d-fa6d-df7bf191f594",
        "colab": {
          "base_uri": "https://localhost:8080/"
        }
      },
      "outputs": [
        {
          "output_type": "stream",
          "name": "stdout",
          "text": [
            "#1: <|endoftext|>We've been waiting for a sweet, juicy and nutritious combo meal taste great with an inexpensive platter of sweet and hot seafood and eggs and eggs in advance of dinner, but I'm hesitant to try so much flake and then taste the d\n",
            "\n",
            "#2: <|endoftext|>Ooope Wild, Chief Keef, and James Spader did it blindfolded and then walked 24 yards in a 17-1 split. Wizards players learned to cover the ball so well against the run with a totally unperturbed Sh\n",
            "\n",
            "#3: <|endoftext|>For new readers, I took the time to examine some DNA studies – with regards to the Q403 gene — and one interesting study: one with 23 Jensen models to examine the relationship between distance between observed and unrecorded bisexuality. (According to\n",
            "\n",
            "#4: <|endoftext|>A recent climate study found that phosphoric acid (PPA) directly regulated the ability of squid to adapt to rising sea levels. Cried about by researcher Mary Betuskas over at Climategate, the researchers tested the water supply to Sixty\n",
            "\n",
            "#5: <|endoftext|>France has a reputation as one of the safest countries in Europe temporarily filled with free-living workers and for youth groups that inspire national pride. But in late September, on World Cup qualifier and World Cup training camps in the Carolinas, the International\n",
            "\n"
          ]
        }
      ],
      "source": [
        "def simple_sample(probs):\n",
        "    return torch.multinomial(probs, num_samples=1)[0]\n",
        "\n",
        "# Згенеруємо 5 речень\n",
        "for i in range(1, 6):\n",
        "    result = generate(model, tokenizer, simple_sample)\n",
        "    print(f\"#{i}: {result}\")\n",
        "    print()"
      ]
    },
    {
      "cell_type": "markdown",
      "metadata": {
        "id": "XwJG_jGmBXCU"
      },
      "source": [
        "## Sampling with temperature\n",
        "\n",
        "Ми також можемо впливати на генерацію параметром температури softmax.\n",
        "\n",
        "Більші значення температури призводять до того, що різниця між ймовірностями токенів зменшується, тобто розподіл стає більш рівномірним. На практиці це означає, що менш ймовірні варіанти обиратимуться частіше і згенерований текст може бути цікавішим. Однак якщо продовжувати піднімати температуру, то текст спочатку втратить зв'язність, далі почнуть розпадатися слова та граматичність.\n",
        "\n",
        "Менші значення температури змінюють розподіл таким чином, що основна ймовірніста маса припадає на невелику кількість топових токенів. При температурі 0 вся ймовірність дістанеться одному токену й семплінг перетвориться на greedy decoding.\n",
        "\n",
        "Згенеруємо тексти з різною температурою:"
      ]
    },
    {
      "cell_type": "code",
      "execution_count": 48,
      "metadata": {
        "id": "0Y_J1eS3BfTF",
        "outputId": "35554978-ada9-4778-8f35-4c18bb2f1f43",
        "colab": {
          "base_uri": "https://localhost:8080/"
        }
      },
      "outputs": [
        {
          "output_type": "stream",
          "name": "stdout",
          "text": [
            "Sampling with temperature=0.1\n",
            "<|endoftext|>\n",
            "The first time I saw the new version of the game, I\n",
            "\n",
            "Sampling with temperature=0.3\n",
            "<|endoftext|>\n",
            "\"I'm not sure that I would have done it if I\n",
            "\n",
            "Sampling with temperature=0.5\n",
            "<|endoftext|>I have used the following brands in the past:\n",
            "\n",
            "Laser\n",
            "\n",
            "Sampling with temperature=0.8\n",
            "<|endoftext|>, which is closely based on sales of at least 4,000 TV\n",
            "\n",
            "Sampling with temperature=1.0\n",
            "<|endoftext|>merchet vanka vaghdik karvag events v\n",
            "\n",
            "Sampling with temperature=1.25\n",
            "<|endoftext|>Like\n",
            "\n",
            "Looking at some \"tree shaking NVIDIA house Linux rider what\n",
            "\n",
            "Sampling with temperature=1.5\n",
            "<|endoftext|>ethyl hydrodict=8988676 947332270 Dominant m\n",
            "\n",
            "Sampling with temperature=2.0\n",
            "<|endoftext|>ote庸, initially exclaim Innovation allexp Ire mailmail relinders\n",
            "\n",
            "Sampling with temperature=3.0\n",
            "<|endoftext|>Delivery alarm bottle sucking airstrike munitions Z tracking prime mash protocol laws lun platform\n",
            "\n",
            "Sampling with temperature=5.0\n",
            "<|endoftext|> STD breed studied Mak jun EE 308 Veterinary reporting suit}); heckedo unearthed\n",
            "\n"
          ]
        }
      ],
      "source": [
        "for temperature in (0.1, 0.3, 0.5, 0.8, 1.0, 1.25, 1.5, 2.0, 3.0, 5.0):\n",
        "\n",
        "    def sample_with_temp(probs):\n",
        "        updated_probs = probs.log().div(temperature).exp()\n",
        "        return simple_sample(updated_probs)\n",
        "\n",
        "    print(f\"Sampling with temperature={temperature}\")\n",
        "    result = generate(model, tokenizer, sample_with_temp, max_len=15)\n",
        "    print(result)\n",
        "    print()"
      ]
    },
    {
      "cell_type": "code",
      "source": [
        "# Яке значення `temperature` здається вам оптимальною?\n",
        "lab.checkpoint(\"softmax temperature\", 0.3)"
      ],
      "metadata": {
        "id": "ShTm-dddw6s9",
        "outputId": "fd1b46f7-7c9a-4e7e-a4b2-6d62498c0d14",
        "colab": {
          "base_uri": "https://localhost:8080/"
        }
      },
      "execution_count": 49,
      "outputs": [
        {
          "output_type": "stream",
          "name": "stdout",
          "text": [
            "Відповідь правильна ✅\n",
            "Окей, добре\n"
          ]
        },
        {
          "output_type": "execute_result",
          "data": {
            "text/plain": [
              "0.3"
            ]
          },
          "metadata": {},
          "execution_count": 49
        }
      ]
    },
    {
      "cell_type": "markdown",
      "metadata": {
        "id": "KO9-xZxRBkIB"
      },
      "source": [
        "## Top-k sampling"
      ]
    },
    {
      "cell_type": "code",
      "execution_count": 51,
      "metadata": {
        "id": "HqPZTXxZCQdc"
      },
      "outputs": [],
      "source": [
        "def top_k_sampling(probs, k):\n",
        "    topk = probs.topk(k)\n",
        "    index = torch.multinomial(topk.values, num_samples=1)[0]\n",
        "    print(f\"Top {k} words take {topk.values.sum():%} probability mass\")\n",
        "    return topk.indices[index]"
      ]
    },
    {
      "cell_type": "code",
      "execution_count": 52,
      "metadata": {
        "id": "Q2BAZ9mnCRGC",
        "outputId": "53fbe6df-6e99-4e10-a04b-c0f6dc6969e8",
        "colab": {
          "base_uri": "https://localhost:8080/"
        }
      },
      "outputs": [
        {
          "output_type": "stream",
          "name": "stdout",
          "text": [
            "Top 15 words take 24.650967% probability mass\n",
            "Top 15 words take 52.455300% probability mass\n",
            "Top 15 words take 78.411824% probability mass\n",
            "Top 15 words take 72.466278% probability mass\n",
            "Top 15 words take 97.829008% probability mass\n",
            "Top 15 words take 64.030439% probability mass\n",
            "Top 15 words take 60.525846% probability mass\n",
            "Top 15 words take 68.046075% probability mass\n",
            "Top 15 words take 94.212645% probability mass\n",
            "Top 15 words take 65.382004% probability mass\n",
            "Top 15 words take 63.434607% probability mass\n",
            "Top 15 words take 58.338660% probability mass\n",
            "Top 15 words take 53.938299% probability mass\n",
            "Top 15 words take 59.138405% probability mass\n",
            "Top 15 words take 55.738580% probability mass\n",
            "Top 15 words take 30.756187% probability mass\n",
            "Top 15 words take 86.129749% probability mass\n",
            "Top 15 words take 85.227823% probability mass\n",
            "Top 15 words take 87.848949% probability mass\n",
            "#1: <|endoftext|>I know, right? But you know, I'm just gonna get the facts right here,\n",
            "\n",
            "Top 15 words take 24.650967% probability mass\n",
            "Top 15 words take 26.878273% probability mass\n",
            "Top 15 words take 9.243811% probability mass\n",
            "Top 15 words take 28.175041% probability mass\n",
            "Top 15 words take 75.847411% probability mass\n",
            "Top 15 words take 24.696758% probability mass\n",
            "Top 15 words take 65.142322% probability mass\n",
            "Top 15 words take 35.787919% probability mass\n",
            "Top 15 words take 83.671427% probability mass\n",
            "Top 15 words take 68.397689% probability mass\n",
            "Top 15 words take 89.254200% probability mass\n",
            "Top 15 words take 30.270216% probability mass\n",
            "Top 15 words take 44.085762% probability mass\n",
            "Top 15 words take 35.826510% probability mass\n",
            "Top 15 words take 99.963421% probability mass\n",
            "Top 15 words take 67.149383% probability mass\n",
            "Top 15 words take 31.690562% probability mass\n",
            "Top 15 words take 33.658674% probability mass\n",
            "Top 15 words take 62.842274% probability mass\n",
            "#2: <|endoftext|>\n",
            "The first of these has been revealed to date (in the form of an exclusive photo from\n",
            "\n",
            "Top 15 words take 24.650967% probability mass\n",
            "Top 15 words take 26.878273% probability mass\n",
            "Top 15 words take 9.243811% probability mass\n",
            "Top 15 words take 8.901469% probability mass\n",
            "Top 15 words take 45.458892% probability mass\n",
            "Top 15 words take 88.442576% probability mass\n",
            "Top 15 words take 91.363841% probability mass\n",
            "Top 15 words take 95.199466% probability mass\n",
            "Top 15 words take 14.873427% probability mass\n",
            "Top 15 words take 67.186195% probability mass\n",
            "Top 15 words take 66.675758% probability mass\n",
            "Top 15 words take 98.368937% probability mass\n",
            "Top 15 words take 69.867855% probability mass\n",
            "Top 15 words take 26.999834% probability mass\n",
            "Top 15 words take 21.328449% probability mass\n",
            "Top 15 words take 46.304756% probability mass\n",
            "Top 15 words take 32.644954% probability mass\n",
            "Top 15 words take 87.926763% probability mass\n",
            "Top 15 words take 99.998397% probability mass\n",
            "#3: <|endoftext|>\n",
            "The new $3.5 billion plan, known as \"The Biggest and Brightest\n",
            "\n",
            "Top 15 words take 24.650967% probability mass\n",
            "Top 15 words take 26.878273% probability mass\n",
            "Top 15 words take 13.828301% probability mass\n",
            "Top 15 words take 78.005087% probability mass\n",
            "Top 15 words take 34.472632% probability mass\n",
            "Top 15 words take 95.255381% probability mass\n",
            "Top 15 words take 25.531471% probability mass\n",
            "Top 15 words take 79.605597% probability mass\n",
            "Top 15 words take 37.758881% probability mass\n",
            "Top 15 words take 48.243946% probability mass\n",
            "Top 15 words take 74.604946% probability mass\n",
            "Top 15 words take 33.150631% probability mass\n",
            "Top 15 words take 22.563690% probability mass\n",
            "Top 15 words take 46.871865% probability mass\n",
            "Top 15 words take 47.420561% probability mass\n",
            "Top 15 words take 78.527641% probability mass\n",
            "Top 15 words take 34.143814% probability mass\n",
            "Top 15 words take 44.535512% probability mass\n",
            "Top 15 words take 45.952886% probability mass\n",
            "#4: <|endoftext|>\n",
            "An open source open source program to build and analyze a Java EE app, providing the ability\n",
            "\n",
            "Top 15 words take 24.650967% probability mass\n",
            "Top 15 words take 50.771153% probability mass\n",
            "Top 15 words take 61.215609% probability mass\n",
            "Top 15 words take 56.185424% probability mass\n",
            "Top 15 words take 54.217762% probability mass\n",
            "Top 15 words take 97.616613% probability mass\n",
            "Top 15 words take 42.610464% probability mass\n",
            "Top 15 words take 92.221260% probability mass\n",
            "Top 15 words take 80.154890% probability mass\n",
            "Top 15 words take 72.751695% probability mass\n",
            "Top 15 words take 42.792764% probability mass\n",
            "Top 15 words take 57.661873% probability mass\n",
            "Top 15 words take 89.310318% probability mass\n",
            "Top 15 words take 81.860304% probability mass\n",
            "Top 15 words take 30.105627% probability mass\n",
            "Top 15 words take 99.074495% probability mass\n",
            "Top 15 words take 37.125364% probability mass\n",
            "Top 15 words take 87.388575% probability mass\n",
            "Top 15 words take 74.696970% probability mass\n",
            "#5: <|endoftext|>\"I'm not going to lie. I was really surprised about the amount of time that I\n",
            "\n"
          ]
        }
      ],
      "source": [
        "k = 15\n",
        "sample_fn = lambda probs: top_k_sampling(probs, k=k)\n",
        "for i in range(1, 6):\n",
        "    result = generate(model, tokenizer, sample_fn, max_len=20)\n",
        "    print(f\"#{i}: {result}\")\n",
        "    print()"
      ]
    },
    {
      "cell_type": "markdown",
      "metadata": {
        "id": "CuJFHRsaCoAK"
      },
      "source": [
        "## Nucleus (top-p) sampling"
      ]
    },
    {
      "cell_type": "code",
      "execution_count": 55,
      "metadata": {
        "id": "PUIZQgXhCU1l"
      },
      "outputs": [],
      "source": [
        "def nucleus_sampling(probs, max_p):\n",
        "    sorted_probs = probs.sort(descending=True)\n",
        "    cum_prob = 0.0\n",
        "    sample_indices = []\n",
        "    sample_probs = []\n",
        "    for i in range(0, len(sorted_probs.values)):\n",
        "        p = sorted_probs.values[i]\n",
        "        cum_prob += p\n",
        "        sample_probs.append(p)\n",
        "        sample_indices.append(sorted_probs.indices[i])\n",
        "        if max_p <= cum_prob:         # <---------- Implement this\n",
        "            break\n",
        "\n",
        "    sample_probs = torch.tensor(sample_probs)\n",
        "    sample_probs = sample_probs.div(sample_probs.sum())\n",
        "    index = torch.multinomial(sample_probs, num_samples=1)[0]\n",
        "    return sample_indices[index]"
      ]
    },
    {
      "cell_type": "code",
      "execution_count": 56,
      "metadata": {
        "id": "FXuy2S8tCq_Z",
        "outputId": "368d67b9-dcc0-48a5-ded2-1c3bbdc87c5b",
        "colab": {
          "base_uri": "https://localhost:8080/"
        }
      },
      "outputs": [
        {
          "output_type": "stream",
          "name": "stdout",
          "text": [
            "#0.0: <|endoftext|>\n",
            "The first time I saw the new version of the game, I was so excited. I\n",
            "\n",
            "#0.1: <|endoftext|>\n",
            "The \"Big Three\" of the Internet are the Internet, the media, and the government\n",
            "\n",
            "#0.3: <|endoftext|>\n",
            "In this video, we take a look at the life of the original Titan, the first\n",
            "\n",
            "#0.5: <|endoftext|>- Introduction -\n",
            "\n",
            "What's new in the latest version of Java 7?\n",
            "\n",
            "-\n",
            "\n",
            "#0.6: <|endoftext|>Dr. Janna and Dr. Mario, who co-founded an organization that aims to bring\n",
            "\n",
            "#0.8: <|endoftext|> which actually resolves the problem of server data corrupted by uninitialized variable\n",
            "\n",
            "This proposal proposes using\n",
            "\n",
            "#1.0: <|endoftext|>_followdetails_simple.cpp:\n",
            "\n",
            "include \"here.h\"\n",
            "\n",
            "GF\n",
            "\n"
          ]
        }
      ],
      "source": [
        "for max_p in (0.0, 0.1, 0.3, 0.5, 0.6, 0.8, 1.0):\n",
        "    sample_fn = lambda probs: nucleus_sampling(probs, max_p=max_p)\n",
        "    result = generate(model, tokenizer, sample_fn, max_len=20)\n",
        "    print(f\"#{max_p}: {result}\")\n",
        "    print()"
      ]
    },
    {
      "cell_type": "markdown",
      "metadata": {
        "id": "ra-F6HyTCxcG"
      },
      "source": [
        "## Start from prompt\n",
        "\n",
        "До цього моменту ми генерували текст з нуля. Однак значно кориснішим є задача генерації тексту від певного префікса або \"підказки\" -- в англійській мові це називається \"prompt\".\n",
        "\n",
        "Prompt дозволить нам контролювати тематику згенерованого тексту або, як ми побачимо на іншій лекції, допоможе моделі виконувати різноманітні завдання."
      ]
    },
    {
      "cell_type": "code",
      "execution_count": 57,
      "metadata": {
        "id": "7mP3YWPfDI7Q"
      },
      "outputs": [],
      "source": [
        "@torch.no_grad()\n",
        "def generate(model, tokenizer, sample_fn, prompt, max_len=50, bpe_decode=True):\n",
        "\n",
        "    result = tokenizer.encode(prompt)     # <---- цей рядок додано\n",
        "\n",
        "    while len(result) < max_len:\n",
        "\n",
        "        # Передбачення ймовірностней наступного токена\n",
        "        input_ = torch.LongTensor([result])\n",
        "        output = model(input_)\n",
        "        log_probs = torch.log_softmax(output.logits[0, -1], dim=-1)\n",
        "\n",
        "        # Обираємо токен, що має найбільшу ймовірність\n",
        "        token_index = sample_fn(log_probs.exp())\n",
        "\n",
        "        # Зупиняємося, якщо досягнули кінця\n",
        "        if token_index == tokenizer.eos_token_id:\n",
        "            break\n",
        "\n",
        "        # Додаємо обраний токен в згенерований текст\n",
        "        result.append(token_index.item())\n",
        "\n",
        "    if bpe_decode:\n",
        "        tokens = tokenizer.convert_ids_to_tokens(result)\n",
        "        result = tokenizer.convert_tokens_to_string(tokens)\n",
        "\n",
        "    return result"
      ]
    },
    {
      "cell_type": "code",
      "execution_count": 62,
      "metadata": {
        "id": "tBf2m-x7DJ0r",
        "outputId": "f34341a3-9e6e-4f5d-d512-a7c665b6f0fb",
        "colab": {
          "base_uri": "https://localhost:8080/"
        }
      },
      "outputs": [
        {
          "output_type": "stream",
          "name": "stdout",
          "text": [
            "#1: Happiness is _______\n",
            "\n",
            "Like the Left in its many popularizing references to their madness, \"those who practice unhealthy behaviors\" are \"creative\" and need a work ethic. _______ _______ is the Enemy _______\n",
            "\n",
            "What\n",
            "\n",
            "#2: Happiness is  embarrassing and off-putting as  it is. But  Prudent Man \" My blood... I feel  impossible for my am I rich? \" that sounds somewhat interesting, and might in\n",
            "\n",
            "#3: Happiness is vernacular, but not as widely as it's been because of the next few years. As the people learn and better their understanding of the society, they begin to understand other cultures much more, and it would take more time for\n",
            "\n",
            "#4: Happiness is ˜¬˜˜˜˜˜˜˜˜˜˜˜˜˜˜˜˜˜˜˜˜˜˜˜˜˜˜˜˜˜˜˜˜˜˜˜˜˜˜˜˜˜˜˜\n",
            "\n"
          ]
        }
      ],
      "source": [
        "max_p = 0.9\n",
        "sample_fn = lambda probs: nucleus_sampling(probs, max_p=max_p)\n",
        "for i in range(1, 5):\n",
        "    result = generate(model, tokenizer, sample_fn, prompt=\"Happiness is \")\n",
        "    print(f\"#{i}: {result}\")\n",
        "    print()\n",
        "\n",
        "\n",
        "# Спробуйте змінити prompt на щось інше"
      ]
    },
    {
      "cell_type": "markdown",
      "source": [
        "# Zero-shot класифікація\n",
        "\n",
        "Ми будемо досліджувати цю тему на окремій лекції. Але спробуємо застосувати мовну модель для задачі класифікації вже зараз. Хоча наша модель надто маленька й слабка для серйозного використання в zero-shot.\n"
      ],
      "metadata": {
        "id": "0qBd5PJlxP2i"
      }
    },
    {
      "cell_type": "code",
      "source": [
        "generate(model, tokenizer, greedy_choice, prompt=\"This film is awful! Actor play is terrible. The plot is dull. I would rate it as a\").splitlines()[0]\n"
      ],
      "metadata": {
        "id": "2-DXnTBUHurd",
        "outputId": "c7e0c6e9-70a5-4a2d-a8d2-2889efa097b9",
        "colab": {
          "base_uri": "https://localhost:8080/",
          "height": 36
        }
      },
      "execution_count": 63,
      "outputs": [
        {
          "output_type": "execute_result",
          "data": {
            "text/plain": [
              "'This film is awful! Actor play is terrible. The plot is dull. I would rate it as a B+.'"
            ],
            "application/vnd.google.colaboratory.intrinsic+json": {
              "type": "string"
            }
          },
          "metadata": {},
          "execution_count": 63
        }
      ]
    },
    {
      "cell_type": "code",
      "source": [
        "generate(model, tokenizer, greedy_choice, prompt=\"This film is amazing! The time flies by when you watch it. Definitely recommend! On the scale of 1 to 5, I would rate it as a\").splitlines()[0]\n"
      ],
      "metadata": {
        "id": "jceNhVHYJbMH",
        "outputId": "a062b440-ac33-42b6-822a-ca4e4e1243d9",
        "colab": {
          "base_uri": "https://localhost:8080/",
          "height": 36
        }
      },
      "execution_count": 64,
      "outputs": [
        {
          "output_type": "execute_result",
          "data": {
            "text/plain": [
              "'This film is amazing! The time flies by when you watch it. Definitely recommend! On the scale of 1 to 5, I would rate it as a 5.'"
            ],
            "application/vnd.google.colaboratory.intrinsic+json": {
              "type": "string"
            }
          },
          "metadata": {},
          "execution_count": 64
        }
      ]
    },
    {
      "cell_type": "code",
      "execution_count": 65,
      "metadata": {
        "id": "cuK8D9uQJR5c",
        "outputId": "0a685645-70ac-453a-b29e-789d3ab9876b",
        "colab": {
          "base_uri": "https://localhost:8080/",
          "height": 70
        }
      },
      "outputs": [
        {
          "output_type": "stream",
          "name": "stdout",
          "text": [
            "Відповідь правильна ✅\n",
            "Ця робота не має однієї правильної відповіді. Вважаємо лабу пройденою :) Формочка: https://tally.so/r/mZ81ve\n"
          ]
        },
        {
          "output_type": "execute_result",
          "data": {
            "text/plain": [
              "'Готово!'"
            ],
            "application/vnd.google.colaboratory.intrinsic+json": {
              "type": "string"
            }
          },
          "metadata": {},
          "execution_count": 65
        }
      ],
      "source": [
        "lab.answer(\"Готово!\")"
      ]
    },
    {
      "cell_type": "markdown",
      "source": [
        "# Real world\n",
        "\n",
        "У цій роботі ми імплементували кілька методів декодінгу. Але, звичайно, все вже зроблено за нас.\n",
        "\n",
        "Подивіться на параметри функції [generate()](https://huggingface.co/docs/transformers/v4.21.1/en/main_classes/text_generation#transformers.generation_utils.GenerationMixin.generate) з бібліотеки transformers. Багато з них мають виглядати знайомими.\n",
        "\n",
        "Повний приклад використання:"
      ],
      "metadata": {
        "id": "Xy0OIkpIwn1e"
      }
    },
    {
      "cell_type": "code",
      "source": [
        "from transformers import AutoTokenizer, AutoModelForCausalLM\n",
        "import torch\n",
        "\n",
        "model = AutoModelForCausalLM.from_pretrained(\"gpt2\")\n",
        "tokenizer = AutoTokenizer.from_pretrained(\"gpt2\")\n",
        "\n",
        "prompt = \"I hope that in that practical class on text generation you\"\n",
        "\n",
        "inputs = tokenizer(prompt, return_tensors=\"pt\")\n",
        "outputs = model.generate(**inputs, do_sample=True, top_p=0.8, max_length=50)\n",
        "\n",
        "tokenizer.batch_decode(outputs, skip_special_tokens=True)"
      ],
      "metadata": {
        "id": "nTdm0OLX0qfZ",
        "outputId": "04aa2d05-925b-4246-ce32-b2dd825f43c1",
        "colab": {
          "base_uri": "https://localhost:8080/"
        }
      },
      "execution_count": 66,
      "outputs": [
        {
          "output_type": "stream",
          "name": "stderr",
          "text": [
            "/usr/local/lib/python3.10/dist-packages/transformers/tokenization_utils_base.py:1601: FutureWarning: `clean_up_tokenization_spaces` was not set. It will be set to `True` by default. This behavior will be depracted in transformers v4.45, and will be then set to `False` by default. For more details check this issue: https://github.com/huggingface/transformers/issues/31884\n",
            "  warnings.warn(\n",
            "Setting `pad_token_id` to `eos_token_id`:50256 for open-end generation.\n"
          ]
        },
        {
          "output_type": "execute_result",
          "data": {
            "text/plain": [
              "['I hope that in that practical class on text generation you will not be forced to do what many would do if you could. I am also proud of my new book, The Great American Novel, on how to tell a story of love, romance,']"
            ]
          },
          "metadata": {},
          "execution_count": 66
        }
      ]
    },
    {
      "cell_type": "markdown",
      "source": [
        "# The End\n"
      ],
      "metadata": {
        "id": "Fj_v43SP0ooz"
      }
    },
    {
      "cell_type": "code",
      "source": [
        "lab.answer(\"Готово!\")"
      ],
      "metadata": {
        "id": "SVwIySR60N-J",
        "outputId": "fc28a30c-28dd-4778-a599-75e2b675fb0d",
        "colab": {
          "base_uri": "https://localhost:8080/",
          "height": 70
        }
      },
      "execution_count": 67,
      "outputs": [
        {
          "output_type": "stream",
          "name": "stdout",
          "text": [
            "Відповідь правильна ✅\n",
            "Ця робота не має однієї правильної відповіді. Вважаємо лабу пройденою :) Формочка: https://tally.so/r/mZ81ve\n"
          ]
        },
        {
          "output_type": "execute_result",
          "data": {
            "text/plain": [
              "'Готово!'"
            ],
            "application/vnd.google.colaboratory.intrinsic+json": {
              "type": "string"
            }
          },
          "metadata": {},
          "execution_count": 67
        }
      ]
    }
  ],
  "metadata": {
    "colab": {
      "provenance": []
    },
    "kernelspec": {
      "display_name": "Python 3",
      "name": "python3"
    },
    "language_info": {
      "name": "python"
    },
    "widgets": {
      "application/vnd.jupyter.widget-state+json": {
        "8d258b6731c946d89a11bd2097f3a235": {
          "model_module": "@jupyter-widgets/controls",
          "model_name": "HBoxModel",
          "model_module_version": "1.5.0",
          "state": {
            "_dom_classes": [],
            "_model_module": "@jupyter-widgets/controls",
            "_model_module_version": "1.5.0",
            "_model_name": "HBoxModel",
            "_view_count": null,
            "_view_module": "@jupyter-widgets/controls",
            "_view_module_version": "1.5.0",
            "_view_name": "HBoxView",
            "box_style": "",
            "children": [
              "IPY_MODEL_6d9943f00c654e2697a9e57e6481a1c8",
              "IPY_MODEL_b05c8cd0922243a9a925c665a868c1bc",
              "IPY_MODEL_8f2d2b99db9343c8aefe316d2fa1f6ba"
            ],
            "layout": "IPY_MODEL_36b621e0b9a444968cae9a69ffedeb75"
          }
        },
        "6d9943f00c654e2697a9e57e6481a1c8": {
          "model_module": "@jupyter-widgets/controls",
          "model_name": "HTMLModel",
          "model_module_version": "1.5.0",
          "state": {
            "_dom_classes": [],
            "_model_module": "@jupyter-widgets/controls",
            "_model_module_version": "1.5.0",
            "_model_name": "HTMLModel",
            "_view_count": null,
            "_view_module": "@jupyter-widgets/controls",
            "_view_module_version": "1.5.0",
            "_view_name": "HTMLView",
            "description": "",
            "description_tooltip": null,
            "layout": "IPY_MODEL_295983a14dbb45a69961957e6d9ab8ca",
            "placeholder": "​",
            "style": "IPY_MODEL_28ade4b0494f4a44be9c41853e5d0d61",
            "value": "config.json: 100%"
          }
        },
        "b05c8cd0922243a9a925c665a868c1bc": {
          "model_module": "@jupyter-widgets/controls",
          "model_name": "FloatProgressModel",
          "model_module_version": "1.5.0",
          "state": {
            "_dom_classes": [],
            "_model_module": "@jupyter-widgets/controls",
            "_model_module_version": "1.5.0",
            "_model_name": "FloatProgressModel",
            "_view_count": null,
            "_view_module": "@jupyter-widgets/controls",
            "_view_module_version": "1.5.0",
            "_view_name": "ProgressView",
            "bar_style": "success",
            "description": "",
            "description_tooltip": null,
            "layout": "IPY_MODEL_cc6a488fd2914bc4a276e88300264225",
            "max": 665,
            "min": 0,
            "orientation": "horizontal",
            "style": "IPY_MODEL_41e5cdcf5ee6464ebb58a1f0fcc2b5ff",
            "value": 665
          }
        },
        "8f2d2b99db9343c8aefe316d2fa1f6ba": {
          "model_module": "@jupyter-widgets/controls",
          "model_name": "HTMLModel",
          "model_module_version": "1.5.0",
          "state": {
            "_dom_classes": [],
            "_model_module": "@jupyter-widgets/controls",
            "_model_module_version": "1.5.0",
            "_model_name": "HTMLModel",
            "_view_count": null,
            "_view_module": "@jupyter-widgets/controls",
            "_view_module_version": "1.5.0",
            "_view_name": "HTMLView",
            "description": "",
            "description_tooltip": null,
            "layout": "IPY_MODEL_e68c393029d94f2699834bb961c8e1cb",
            "placeholder": "​",
            "style": "IPY_MODEL_05bbf369c6dd4c04944184a4cc5f18d1",
            "value": " 665/665 [00:00&lt;00:00, 7.53kB/s]"
          }
        },
        "36b621e0b9a444968cae9a69ffedeb75": {
          "model_module": "@jupyter-widgets/base",
          "model_name": "LayoutModel",
          "model_module_version": "1.2.0",
          "state": {
            "_model_module": "@jupyter-widgets/base",
            "_model_module_version": "1.2.0",
            "_model_name": "LayoutModel",
            "_view_count": null,
            "_view_module": "@jupyter-widgets/base",
            "_view_module_version": "1.2.0",
            "_view_name": "LayoutView",
            "align_content": null,
            "align_items": null,
            "align_self": null,
            "border": null,
            "bottom": null,
            "display": null,
            "flex": null,
            "flex_flow": null,
            "grid_area": null,
            "grid_auto_columns": null,
            "grid_auto_flow": null,
            "grid_auto_rows": null,
            "grid_column": null,
            "grid_gap": null,
            "grid_row": null,
            "grid_template_areas": null,
            "grid_template_columns": null,
            "grid_template_rows": null,
            "height": null,
            "justify_content": null,
            "justify_items": null,
            "left": null,
            "margin": null,
            "max_height": null,
            "max_width": null,
            "min_height": null,
            "min_width": null,
            "object_fit": null,
            "object_position": null,
            "order": null,
            "overflow": null,
            "overflow_x": null,
            "overflow_y": null,
            "padding": null,
            "right": null,
            "top": null,
            "visibility": null,
            "width": null
          }
        },
        "295983a14dbb45a69961957e6d9ab8ca": {
          "model_module": "@jupyter-widgets/base",
          "model_name": "LayoutModel",
          "model_module_version": "1.2.0",
          "state": {
            "_model_module": "@jupyter-widgets/base",
            "_model_module_version": "1.2.0",
            "_model_name": "LayoutModel",
            "_view_count": null,
            "_view_module": "@jupyter-widgets/base",
            "_view_module_version": "1.2.0",
            "_view_name": "LayoutView",
            "align_content": null,
            "align_items": null,
            "align_self": null,
            "border": null,
            "bottom": null,
            "display": null,
            "flex": null,
            "flex_flow": null,
            "grid_area": null,
            "grid_auto_columns": null,
            "grid_auto_flow": null,
            "grid_auto_rows": null,
            "grid_column": null,
            "grid_gap": null,
            "grid_row": null,
            "grid_template_areas": null,
            "grid_template_columns": null,
            "grid_template_rows": null,
            "height": null,
            "justify_content": null,
            "justify_items": null,
            "left": null,
            "margin": null,
            "max_height": null,
            "max_width": null,
            "min_height": null,
            "min_width": null,
            "object_fit": null,
            "object_position": null,
            "order": null,
            "overflow": null,
            "overflow_x": null,
            "overflow_y": null,
            "padding": null,
            "right": null,
            "top": null,
            "visibility": null,
            "width": null
          }
        },
        "28ade4b0494f4a44be9c41853e5d0d61": {
          "model_module": "@jupyter-widgets/controls",
          "model_name": "DescriptionStyleModel",
          "model_module_version": "1.5.0",
          "state": {
            "_model_module": "@jupyter-widgets/controls",
            "_model_module_version": "1.5.0",
            "_model_name": "DescriptionStyleModel",
            "_view_count": null,
            "_view_module": "@jupyter-widgets/base",
            "_view_module_version": "1.2.0",
            "_view_name": "StyleView",
            "description_width": ""
          }
        },
        "cc6a488fd2914bc4a276e88300264225": {
          "model_module": "@jupyter-widgets/base",
          "model_name": "LayoutModel",
          "model_module_version": "1.2.0",
          "state": {
            "_model_module": "@jupyter-widgets/base",
            "_model_module_version": "1.2.0",
            "_model_name": "LayoutModel",
            "_view_count": null,
            "_view_module": "@jupyter-widgets/base",
            "_view_module_version": "1.2.0",
            "_view_name": "LayoutView",
            "align_content": null,
            "align_items": null,
            "align_self": null,
            "border": null,
            "bottom": null,
            "display": null,
            "flex": null,
            "flex_flow": null,
            "grid_area": null,
            "grid_auto_columns": null,
            "grid_auto_flow": null,
            "grid_auto_rows": null,
            "grid_column": null,
            "grid_gap": null,
            "grid_row": null,
            "grid_template_areas": null,
            "grid_template_columns": null,
            "grid_template_rows": null,
            "height": null,
            "justify_content": null,
            "justify_items": null,
            "left": null,
            "margin": null,
            "max_height": null,
            "max_width": null,
            "min_height": null,
            "min_width": null,
            "object_fit": null,
            "object_position": null,
            "order": null,
            "overflow": null,
            "overflow_x": null,
            "overflow_y": null,
            "padding": null,
            "right": null,
            "top": null,
            "visibility": null,
            "width": null
          }
        },
        "41e5cdcf5ee6464ebb58a1f0fcc2b5ff": {
          "model_module": "@jupyter-widgets/controls",
          "model_name": "ProgressStyleModel",
          "model_module_version": "1.5.0",
          "state": {
            "_model_module": "@jupyter-widgets/controls",
            "_model_module_version": "1.5.0",
            "_model_name": "ProgressStyleModel",
            "_view_count": null,
            "_view_module": "@jupyter-widgets/base",
            "_view_module_version": "1.2.0",
            "_view_name": "StyleView",
            "bar_color": null,
            "description_width": ""
          }
        },
        "e68c393029d94f2699834bb961c8e1cb": {
          "model_module": "@jupyter-widgets/base",
          "model_name": "LayoutModel",
          "model_module_version": "1.2.0",
          "state": {
            "_model_module": "@jupyter-widgets/base",
            "_model_module_version": "1.2.0",
            "_model_name": "LayoutModel",
            "_view_count": null,
            "_view_module": "@jupyter-widgets/base",
            "_view_module_version": "1.2.0",
            "_view_name": "LayoutView",
            "align_content": null,
            "align_items": null,
            "align_self": null,
            "border": null,
            "bottom": null,
            "display": null,
            "flex": null,
            "flex_flow": null,
            "grid_area": null,
            "grid_auto_columns": null,
            "grid_auto_flow": null,
            "grid_auto_rows": null,
            "grid_column": null,
            "grid_gap": null,
            "grid_row": null,
            "grid_template_areas": null,
            "grid_template_columns": null,
            "grid_template_rows": null,
            "height": null,
            "justify_content": null,
            "justify_items": null,
            "left": null,
            "margin": null,
            "max_height": null,
            "max_width": null,
            "min_height": null,
            "min_width": null,
            "object_fit": null,
            "object_position": null,
            "order": null,
            "overflow": null,
            "overflow_x": null,
            "overflow_y": null,
            "padding": null,
            "right": null,
            "top": null,
            "visibility": null,
            "width": null
          }
        },
        "05bbf369c6dd4c04944184a4cc5f18d1": {
          "model_module": "@jupyter-widgets/controls",
          "model_name": "DescriptionStyleModel",
          "model_module_version": "1.5.0",
          "state": {
            "_model_module": "@jupyter-widgets/controls",
            "_model_module_version": "1.5.0",
            "_model_name": "DescriptionStyleModel",
            "_view_count": null,
            "_view_module": "@jupyter-widgets/base",
            "_view_module_version": "1.2.0",
            "_view_name": "StyleView",
            "description_width": ""
          }
        },
        "2858b2a4c9ae486b895331b55e52ecf0": {
          "model_module": "@jupyter-widgets/controls",
          "model_name": "HBoxModel",
          "model_module_version": "1.5.0",
          "state": {
            "_dom_classes": [],
            "_model_module": "@jupyter-widgets/controls",
            "_model_module_version": "1.5.0",
            "_model_name": "HBoxModel",
            "_view_count": null,
            "_view_module": "@jupyter-widgets/controls",
            "_view_module_version": "1.5.0",
            "_view_name": "HBoxView",
            "box_style": "",
            "children": [
              "IPY_MODEL_d91991719aba47fe88eee84bfd9fd09b",
              "IPY_MODEL_0bc0e295fe49411eaf0a04e0ef55c76d",
              "IPY_MODEL_6adcd1d808ed4ab89736ca3d2fa57298"
            ],
            "layout": "IPY_MODEL_60ba54a7dc764f21afaee698db4d1c40"
          }
        },
        "d91991719aba47fe88eee84bfd9fd09b": {
          "model_module": "@jupyter-widgets/controls",
          "model_name": "HTMLModel",
          "model_module_version": "1.5.0",
          "state": {
            "_dom_classes": [],
            "_model_module": "@jupyter-widgets/controls",
            "_model_module_version": "1.5.0",
            "_model_name": "HTMLModel",
            "_view_count": null,
            "_view_module": "@jupyter-widgets/controls",
            "_view_module_version": "1.5.0",
            "_view_name": "HTMLView",
            "description": "",
            "description_tooltip": null,
            "layout": "IPY_MODEL_5d4a69058c5f4a14bc568c8c1ece591c",
            "placeholder": "​",
            "style": "IPY_MODEL_73ce7872a60f4427bc8e6ea62fb4d9e7",
            "value": "model.safetensors: 100%"
          }
        },
        "0bc0e295fe49411eaf0a04e0ef55c76d": {
          "model_module": "@jupyter-widgets/controls",
          "model_name": "FloatProgressModel",
          "model_module_version": "1.5.0",
          "state": {
            "_dom_classes": [],
            "_model_module": "@jupyter-widgets/controls",
            "_model_module_version": "1.5.0",
            "_model_name": "FloatProgressModel",
            "_view_count": null,
            "_view_module": "@jupyter-widgets/controls",
            "_view_module_version": "1.5.0",
            "_view_name": "ProgressView",
            "bar_style": "success",
            "description": "",
            "description_tooltip": null,
            "layout": "IPY_MODEL_828372b9675448d89422702ac9163ea5",
            "max": 548105171,
            "min": 0,
            "orientation": "horizontal",
            "style": "IPY_MODEL_74b44caecce24b109f9bf15725805c68",
            "value": 548105171
          }
        },
        "6adcd1d808ed4ab89736ca3d2fa57298": {
          "model_module": "@jupyter-widgets/controls",
          "model_name": "HTMLModel",
          "model_module_version": "1.5.0",
          "state": {
            "_dom_classes": [],
            "_model_module": "@jupyter-widgets/controls",
            "_model_module_version": "1.5.0",
            "_model_name": "HTMLModel",
            "_view_count": null,
            "_view_module": "@jupyter-widgets/controls",
            "_view_module_version": "1.5.0",
            "_view_name": "HTMLView",
            "description": "",
            "description_tooltip": null,
            "layout": "IPY_MODEL_3d396db0429640979431763b6738398e",
            "placeholder": "​",
            "style": "IPY_MODEL_455fca00e1414b3b8c83aa8ce5305864",
            "value": " 548M/548M [00:02&lt;00:00, 237MB/s]"
          }
        },
        "60ba54a7dc764f21afaee698db4d1c40": {
          "model_module": "@jupyter-widgets/base",
          "model_name": "LayoutModel",
          "model_module_version": "1.2.0",
          "state": {
            "_model_module": "@jupyter-widgets/base",
            "_model_module_version": "1.2.0",
            "_model_name": "LayoutModel",
            "_view_count": null,
            "_view_module": "@jupyter-widgets/base",
            "_view_module_version": "1.2.0",
            "_view_name": "LayoutView",
            "align_content": null,
            "align_items": null,
            "align_self": null,
            "border": null,
            "bottom": null,
            "display": null,
            "flex": null,
            "flex_flow": null,
            "grid_area": null,
            "grid_auto_columns": null,
            "grid_auto_flow": null,
            "grid_auto_rows": null,
            "grid_column": null,
            "grid_gap": null,
            "grid_row": null,
            "grid_template_areas": null,
            "grid_template_columns": null,
            "grid_template_rows": null,
            "height": null,
            "justify_content": null,
            "justify_items": null,
            "left": null,
            "margin": null,
            "max_height": null,
            "max_width": null,
            "min_height": null,
            "min_width": null,
            "object_fit": null,
            "object_position": null,
            "order": null,
            "overflow": null,
            "overflow_x": null,
            "overflow_y": null,
            "padding": null,
            "right": null,
            "top": null,
            "visibility": null,
            "width": null
          }
        },
        "5d4a69058c5f4a14bc568c8c1ece591c": {
          "model_module": "@jupyter-widgets/base",
          "model_name": "LayoutModel",
          "model_module_version": "1.2.0",
          "state": {
            "_model_module": "@jupyter-widgets/base",
            "_model_module_version": "1.2.0",
            "_model_name": "LayoutModel",
            "_view_count": null,
            "_view_module": "@jupyter-widgets/base",
            "_view_module_version": "1.2.0",
            "_view_name": "LayoutView",
            "align_content": null,
            "align_items": null,
            "align_self": null,
            "border": null,
            "bottom": null,
            "display": null,
            "flex": null,
            "flex_flow": null,
            "grid_area": null,
            "grid_auto_columns": null,
            "grid_auto_flow": null,
            "grid_auto_rows": null,
            "grid_column": null,
            "grid_gap": null,
            "grid_row": null,
            "grid_template_areas": null,
            "grid_template_columns": null,
            "grid_template_rows": null,
            "height": null,
            "justify_content": null,
            "justify_items": null,
            "left": null,
            "margin": null,
            "max_height": null,
            "max_width": null,
            "min_height": null,
            "min_width": null,
            "object_fit": null,
            "object_position": null,
            "order": null,
            "overflow": null,
            "overflow_x": null,
            "overflow_y": null,
            "padding": null,
            "right": null,
            "top": null,
            "visibility": null,
            "width": null
          }
        },
        "73ce7872a60f4427bc8e6ea62fb4d9e7": {
          "model_module": "@jupyter-widgets/controls",
          "model_name": "DescriptionStyleModel",
          "model_module_version": "1.5.0",
          "state": {
            "_model_module": "@jupyter-widgets/controls",
            "_model_module_version": "1.5.0",
            "_model_name": "DescriptionStyleModel",
            "_view_count": null,
            "_view_module": "@jupyter-widgets/base",
            "_view_module_version": "1.2.0",
            "_view_name": "StyleView",
            "description_width": ""
          }
        },
        "828372b9675448d89422702ac9163ea5": {
          "model_module": "@jupyter-widgets/base",
          "model_name": "LayoutModel",
          "model_module_version": "1.2.0",
          "state": {
            "_model_module": "@jupyter-widgets/base",
            "_model_module_version": "1.2.0",
            "_model_name": "LayoutModel",
            "_view_count": null,
            "_view_module": "@jupyter-widgets/base",
            "_view_module_version": "1.2.0",
            "_view_name": "LayoutView",
            "align_content": null,
            "align_items": null,
            "align_self": null,
            "border": null,
            "bottom": null,
            "display": null,
            "flex": null,
            "flex_flow": null,
            "grid_area": null,
            "grid_auto_columns": null,
            "grid_auto_flow": null,
            "grid_auto_rows": null,
            "grid_column": null,
            "grid_gap": null,
            "grid_row": null,
            "grid_template_areas": null,
            "grid_template_columns": null,
            "grid_template_rows": null,
            "height": null,
            "justify_content": null,
            "justify_items": null,
            "left": null,
            "margin": null,
            "max_height": null,
            "max_width": null,
            "min_height": null,
            "min_width": null,
            "object_fit": null,
            "object_position": null,
            "order": null,
            "overflow": null,
            "overflow_x": null,
            "overflow_y": null,
            "padding": null,
            "right": null,
            "top": null,
            "visibility": null,
            "width": null
          }
        },
        "74b44caecce24b109f9bf15725805c68": {
          "model_module": "@jupyter-widgets/controls",
          "model_name": "ProgressStyleModel",
          "model_module_version": "1.5.0",
          "state": {
            "_model_module": "@jupyter-widgets/controls",
            "_model_module_version": "1.5.0",
            "_model_name": "ProgressStyleModel",
            "_view_count": null,
            "_view_module": "@jupyter-widgets/base",
            "_view_module_version": "1.2.0",
            "_view_name": "StyleView",
            "bar_color": null,
            "description_width": ""
          }
        },
        "3d396db0429640979431763b6738398e": {
          "model_module": "@jupyter-widgets/base",
          "model_name": "LayoutModel",
          "model_module_version": "1.2.0",
          "state": {
            "_model_module": "@jupyter-widgets/base",
            "_model_module_version": "1.2.0",
            "_model_name": "LayoutModel",
            "_view_count": null,
            "_view_module": "@jupyter-widgets/base",
            "_view_module_version": "1.2.0",
            "_view_name": "LayoutView",
            "align_content": null,
            "align_items": null,
            "align_self": null,
            "border": null,
            "bottom": null,
            "display": null,
            "flex": null,
            "flex_flow": null,
            "grid_area": null,
            "grid_auto_columns": null,
            "grid_auto_flow": null,
            "grid_auto_rows": null,
            "grid_column": null,
            "grid_gap": null,
            "grid_row": null,
            "grid_template_areas": null,
            "grid_template_columns": null,
            "grid_template_rows": null,
            "height": null,
            "justify_content": null,
            "justify_items": null,
            "left": null,
            "margin": null,
            "max_height": null,
            "max_width": null,
            "min_height": null,
            "min_width": null,
            "object_fit": null,
            "object_position": null,
            "order": null,
            "overflow": null,
            "overflow_x": null,
            "overflow_y": null,
            "padding": null,
            "right": null,
            "top": null,
            "visibility": null,
            "width": null
          }
        },
        "455fca00e1414b3b8c83aa8ce5305864": {
          "model_module": "@jupyter-widgets/controls",
          "model_name": "DescriptionStyleModel",
          "model_module_version": "1.5.0",
          "state": {
            "_model_module": "@jupyter-widgets/controls",
            "_model_module_version": "1.5.0",
            "_model_name": "DescriptionStyleModel",
            "_view_count": null,
            "_view_module": "@jupyter-widgets/base",
            "_view_module_version": "1.2.0",
            "_view_name": "StyleView",
            "description_width": ""
          }
        },
        "0233436093bf4981ba0f2f0ae487790e": {
          "model_module": "@jupyter-widgets/controls",
          "model_name": "HBoxModel",
          "model_module_version": "1.5.0",
          "state": {
            "_dom_classes": [],
            "_model_module": "@jupyter-widgets/controls",
            "_model_module_version": "1.5.0",
            "_model_name": "HBoxModel",
            "_view_count": null,
            "_view_module": "@jupyter-widgets/controls",
            "_view_module_version": "1.5.0",
            "_view_name": "HBoxView",
            "box_style": "",
            "children": [
              "IPY_MODEL_859d0b9a3b9c4bc48bc7012947d04a5d",
              "IPY_MODEL_381b5907172a48488db4fe6bdcb6c357",
              "IPY_MODEL_1de30c76f40746518d53351e35c1a2ba"
            ],
            "layout": "IPY_MODEL_d4859f8fb5434eb9a3ad6e7f13c76911"
          }
        },
        "859d0b9a3b9c4bc48bc7012947d04a5d": {
          "model_module": "@jupyter-widgets/controls",
          "model_name": "HTMLModel",
          "model_module_version": "1.5.0",
          "state": {
            "_dom_classes": [],
            "_model_module": "@jupyter-widgets/controls",
            "_model_module_version": "1.5.0",
            "_model_name": "HTMLModel",
            "_view_count": null,
            "_view_module": "@jupyter-widgets/controls",
            "_view_module_version": "1.5.0",
            "_view_name": "HTMLView",
            "description": "",
            "description_tooltip": null,
            "layout": "IPY_MODEL_d20be81ee8d44a879bc0913306f62122",
            "placeholder": "​",
            "style": "IPY_MODEL_966a5b2b803a4458b4afa17b26818486",
            "value": "generation_config.json: 100%"
          }
        },
        "381b5907172a48488db4fe6bdcb6c357": {
          "model_module": "@jupyter-widgets/controls",
          "model_name": "FloatProgressModel",
          "model_module_version": "1.5.0",
          "state": {
            "_dom_classes": [],
            "_model_module": "@jupyter-widgets/controls",
            "_model_module_version": "1.5.0",
            "_model_name": "FloatProgressModel",
            "_view_count": null,
            "_view_module": "@jupyter-widgets/controls",
            "_view_module_version": "1.5.0",
            "_view_name": "ProgressView",
            "bar_style": "success",
            "description": "",
            "description_tooltip": null,
            "layout": "IPY_MODEL_1b9b247cb1b044f090656be3f4861d5a",
            "max": 124,
            "min": 0,
            "orientation": "horizontal",
            "style": "IPY_MODEL_92a6dedfe9654eb28dfa32c2ed4600e6",
            "value": 124
          }
        },
        "1de30c76f40746518d53351e35c1a2ba": {
          "model_module": "@jupyter-widgets/controls",
          "model_name": "HTMLModel",
          "model_module_version": "1.5.0",
          "state": {
            "_dom_classes": [],
            "_model_module": "@jupyter-widgets/controls",
            "_model_module_version": "1.5.0",
            "_model_name": "HTMLModel",
            "_view_count": null,
            "_view_module": "@jupyter-widgets/controls",
            "_view_module_version": "1.5.0",
            "_view_name": "HTMLView",
            "description": "",
            "description_tooltip": null,
            "layout": "IPY_MODEL_c840ce5f1ee047f789b1414415dc3cc1",
            "placeholder": "​",
            "style": "IPY_MODEL_8c84132ab1b945a2b89b1393509d0c76",
            "value": " 124/124 [00:00&lt;00:00, 5.28kB/s]"
          }
        },
        "d4859f8fb5434eb9a3ad6e7f13c76911": {
          "model_module": "@jupyter-widgets/base",
          "model_name": "LayoutModel",
          "model_module_version": "1.2.0",
          "state": {
            "_model_module": "@jupyter-widgets/base",
            "_model_module_version": "1.2.0",
            "_model_name": "LayoutModel",
            "_view_count": null,
            "_view_module": "@jupyter-widgets/base",
            "_view_module_version": "1.2.0",
            "_view_name": "LayoutView",
            "align_content": null,
            "align_items": null,
            "align_self": null,
            "border": null,
            "bottom": null,
            "display": null,
            "flex": null,
            "flex_flow": null,
            "grid_area": null,
            "grid_auto_columns": null,
            "grid_auto_flow": null,
            "grid_auto_rows": null,
            "grid_column": null,
            "grid_gap": null,
            "grid_row": null,
            "grid_template_areas": null,
            "grid_template_columns": null,
            "grid_template_rows": null,
            "height": null,
            "justify_content": null,
            "justify_items": null,
            "left": null,
            "margin": null,
            "max_height": null,
            "max_width": null,
            "min_height": null,
            "min_width": null,
            "object_fit": null,
            "object_position": null,
            "order": null,
            "overflow": null,
            "overflow_x": null,
            "overflow_y": null,
            "padding": null,
            "right": null,
            "top": null,
            "visibility": null,
            "width": null
          }
        },
        "d20be81ee8d44a879bc0913306f62122": {
          "model_module": "@jupyter-widgets/base",
          "model_name": "LayoutModel",
          "model_module_version": "1.2.0",
          "state": {
            "_model_module": "@jupyter-widgets/base",
            "_model_module_version": "1.2.0",
            "_model_name": "LayoutModel",
            "_view_count": null,
            "_view_module": "@jupyter-widgets/base",
            "_view_module_version": "1.2.0",
            "_view_name": "LayoutView",
            "align_content": null,
            "align_items": null,
            "align_self": null,
            "border": null,
            "bottom": null,
            "display": null,
            "flex": null,
            "flex_flow": null,
            "grid_area": null,
            "grid_auto_columns": null,
            "grid_auto_flow": null,
            "grid_auto_rows": null,
            "grid_column": null,
            "grid_gap": null,
            "grid_row": null,
            "grid_template_areas": null,
            "grid_template_columns": null,
            "grid_template_rows": null,
            "height": null,
            "justify_content": null,
            "justify_items": null,
            "left": null,
            "margin": null,
            "max_height": null,
            "max_width": null,
            "min_height": null,
            "min_width": null,
            "object_fit": null,
            "object_position": null,
            "order": null,
            "overflow": null,
            "overflow_x": null,
            "overflow_y": null,
            "padding": null,
            "right": null,
            "top": null,
            "visibility": null,
            "width": null
          }
        },
        "966a5b2b803a4458b4afa17b26818486": {
          "model_module": "@jupyter-widgets/controls",
          "model_name": "DescriptionStyleModel",
          "model_module_version": "1.5.0",
          "state": {
            "_model_module": "@jupyter-widgets/controls",
            "_model_module_version": "1.5.0",
            "_model_name": "DescriptionStyleModel",
            "_view_count": null,
            "_view_module": "@jupyter-widgets/base",
            "_view_module_version": "1.2.0",
            "_view_name": "StyleView",
            "description_width": ""
          }
        },
        "1b9b247cb1b044f090656be3f4861d5a": {
          "model_module": "@jupyter-widgets/base",
          "model_name": "LayoutModel",
          "model_module_version": "1.2.0",
          "state": {
            "_model_module": "@jupyter-widgets/base",
            "_model_module_version": "1.2.0",
            "_model_name": "LayoutModel",
            "_view_count": null,
            "_view_module": "@jupyter-widgets/base",
            "_view_module_version": "1.2.0",
            "_view_name": "LayoutView",
            "align_content": null,
            "align_items": null,
            "align_self": null,
            "border": null,
            "bottom": null,
            "display": null,
            "flex": null,
            "flex_flow": null,
            "grid_area": null,
            "grid_auto_columns": null,
            "grid_auto_flow": null,
            "grid_auto_rows": null,
            "grid_column": null,
            "grid_gap": null,
            "grid_row": null,
            "grid_template_areas": null,
            "grid_template_columns": null,
            "grid_template_rows": null,
            "height": null,
            "justify_content": null,
            "justify_items": null,
            "left": null,
            "margin": null,
            "max_height": null,
            "max_width": null,
            "min_height": null,
            "min_width": null,
            "object_fit": null,
            "object_position": null,
            "order": null,
            "overflow": null,
            "overflow_x": null,
            "overflow_y": null,
            "padding": null,
            "right": null,
            "top": null,
            "visibility": null,
            "width": null
          }
        },
        "92a6dedfe9654eb28dfa32c2ed4600e6": {
          "model_module": "@jupyter-widgets/controls",
          "model_name": "ProgressStyleModel",
          "model_module_version": "1.5.0",
          "state": {
            "_model_module": "@jupyter-widgets/controls",
            "_model_module_version": "1.5.0",
            "_model_name": "ProgressStyleModel",
            "_view_count": null,
            "_view_module": "@jupyter-widgets/base",
            "_view_module_version": "1.2.0",
            "_view_name": "StyleView",
            "bar_color": null,
            "description_width": ""
          }
        },
        "c840ce5f1ee047f789b1414415dc3cc1": {
          "model_module": "@jupyter-widgets/base",
          "model_name": "LayoutModel",
          "model_module_version": "1.2.0",
          "state": {
            "_model_module": "@jupyter-widgets/base",
            "_model_module_version": "1.2.0",
            "_model_name": "LayoutModel",
            "_view_count": null,
            "_view_module": "@jupyter-widgets/base",
            "_view_module_version": "1.2.0",
            "_view_name": "LayoutView",
            "align_content": null,
            "align_items": null,
            "align_self": null,
            "border": null,
            "bottom": null,
            "display": null,
            "flex": null,
            "flex_flow": null,
            "grid_area": null,
            "grid_auto_columns": null,
            "grid_auto_flow": null,
            "grid_auto_rows": null,
            "grid_column": null,
            "grid_gap": null,
            "grid_row": null,
            "grid_template_areas": null,
            "grid_template_columns": null,
            "grid_template_rows": null,
            "height": null,
            "justify_content": null,
            "justify_items": null,
            "left": null,
            "margin": null,
            "max_height": null,
            "max_width": null,
            "min_height": null,
            "min_width": null,
            "object_fit": null,
            "object_position": null,
            "order": null,
            "overflow": null,
            "overflow_x": null,
            "overflow_y": null,
            "padding": null,
            "right": null,
            "top": null,
            "visibility": null,
            "width": null
          }
        },
        "8c84132ab1b945a2b89b1393509d0c76": {
          "model_module": "@jupyter-widgets/controls",
          "model_name": "DescriptionStyleModel",
          "model_module_version": "1.5.0",
          "state": {
            "_model_module": "@jupyter-widgets/controls",
            "_model_module_version": "1.5.0",
            "_model_name": "DescriptionStyleModel",
            "_view_count": null,
            "_view_module": "@jupyter-widgets/base",
            "_view_module_version": "1.2.0",
            "_view_name": "StyleView",
            "description_width": ""
          }
        },
        "8554fc775ff84c94b13498496c2ed67b": {
          "model_module": "@jupyter-widgets/controls",
          "model_name": "HBoxModel",
          "model_module_version": "1.5.0",
          "state": {
            "_dom_classes": [],
            "_model_module": "@jupyter-widgets/controls",
            "_model_module_version": "1.5.0",
            "_model_name": "HBoxModel",
            "_view_count": null,
            "_view_module": "@jupyter-widgets/controls",
            "_view_module_version": "1.5.0",
            "_view_name": "HBoxView",
            "box_style": "",
            "children": [
              "IPY_MODEL_63076a482c2241f68b8c68a160ce30a9",
              "IPY_MODEL_b25e1eb1a7cd4dc0a14c14f7113d907e",
              "IPY_MODEL_ecea3b0bc6924182bb8dd3474314af4d"
            ],
            "layout": "IPY_MODEL_2d9f66e12e5d46488ccb9b65fdd4c287"
          }
        },
        "63076a482c2241f68b8c68a160ce30a9": {
          "model_module": "@jupyter-widgets/controls",
          "model_name": "HTMLModel",
          "model_module_version": "1.5.0",
          "state": {
            "_dom_classes": [],
            "_model_module": "@jupyter-widgets/controls",
            "_model_module_version": "1.5.0",
            "_model_name": "HTMLModel",
            "_view_count": null,
            "_view_module": "@jupyter-widgets/controls",
            "_view_module_version": "1.5.0",
            "_view_name": "HTMLView",
            "description": "",
            "description_tooltip": null,
            "layout": "IPY_MODEL_f03819ec6b2e4c1ebb74a4595eab9727",
            "placeholder": "​",
            "style": "IPY_MODEL_349579f3b2454907bc946b2ba9ef3186",
            "value": "tokenizer_config.json: 100%"
          }
        },
        "b25e1eb1a7cd4dc0a14c14f7113d907e": {
          "model_module": "@jupyter-widgets/controls",
          "model_name": "FloatProgressModel",
          "model_module_version": "1.5.0",
          "state": {
            "_dom_classes": [],
            "_model_module": "@jupyter-widgets/controls",
            "_model_module_version": "1.5.0",
            "_model_name": "FloatProgressModel",
            "_view_count": null,
            "_view_module": "@jupyter-widgets/controls",
            "_view_module_version": "1.5.0",
            "_view_name": "ProgressView",
            "bar_style": "success",
            "description": "",
            "description_tooltip": null,
            "layout": "IPY_MODEL_95aa0d1374f54975ab2b40c7b699f95a",
            "max": 26,
            "min": 0,
            "orientation": "horizontal",
            "style": "IPY_MODEL_92b5ff866ea24895ad7954a9c7de8991",
            "value": 26
          }
        },
        "ecea3b0bc6924182bb8dd3474314af4d": {
          "model_module": "@jupyter-widgets/controls",
          "model_name": "HTMLModel",
          "model_module_version": "1.5.0",
          "state": {
            "_dom_classes": [],
            "_model_module": "@jupyter-widgets/controls",
            "_model_module_version": "1.5.0",
            "_model_name": "HTMLModel",
            "_view_count": null,
            "_view_module": "@jupyter-widgets/controls",
            "_view_module_version": "1.5.0",
            "_view_name": "HTMLView",
            "description": "",
            "description_tooltip": null,
            "layout": "IPY_MODEL_5a32791a71b442e8a4feac948f47a459",
            "placeholder": "​",
            "style": "IPY_MODEL_c4468f49fd3b43a395ed4241573df84b",
            "value": " 26.0/26.0 [00:00&lt;00:00, 1.38kB/s]"
          }
        },
        "2d9f66e12e5d46488ccb9b65fdd4c287": {
          "model_module": "@jupyter-widgets/base",
          "model_name": "LayoutModel",
          "model_module_version": "1.2.0",
          "state": {
            "_model_module": "@jupyter-widgets/base",
            "_model_module_version": "1.2.0",
            "_model_name": "LayoutModel",
            "_view_count": null,
            "_view_module": "@jupyter-widgets/base",
            "_view_module_version": "1.2.0",
            "_view_name": "LayoutView",
            "align_content": null,
            "align_items": null,
            "align_self": null,
            "border": null,
            "bottom": null,
            "display": null,
            "flex": null,
            "flex_flow": null,
            "grid_area": null,
            "grid_auto_columns": null,
            "grid_auto_flow": null,
            "grid_auto_rows": null,
            "grid_column": null,
            "grid_gap": null,
            "grid_row": null,
            "grid_template_areas": null,
            "grid_template_columns": null,
            "grid_template_rows": null,
            "height": null,
            "justify_content": null,
            "justify_items": null,
            "left": null,
            "margin": null,
            "max_height": null,
            "max_width": null,
            "min_height": null,
            "min_width": null,
            "object_fit": null,
            "object_position": null,
            "order": null,
            "overflow": null,
            "overflow_x": null,
            "overflow_y": null,
            "padding": null,
            "right": null,
            "top": null,
            "visibility": null,
            "width": null
          }
        },
        "f03819ec6b2e4c1ebb74a4595eab9727": {
          "model_module": "@jupyter-widgets/base",
          "model_name": "LayoutModel",
          "model_module_version": "1.2.0",
          "state": {
            "_model_module": "@jupyter-widgets/base",
            "_model_module_version": "1.2.0",
            "_model_name": "LayoutModel",
            "_view_count": null,
            "_view_module": "@jupyter-widgets/base",
            "_view_module_version": "1.2.0",
            "_view_name": "LayoutView",
            "align_content": null,
            "align_items": null,
            "align_self": null,
            "border": null,
            "bottom": null,
            "display": null,
            "flex": null,
            "flex_flow": null,
            "grid_area": null,
            "grid_auto_columns": null,
            "grid_auto_flow": null,
            "grid_auto_rows": null,
            "grid_column": null,
            "grid_gap": null,
            "grid_row": null,
            "grid_template_areas": null,
            "grid_template_columns": null,
            "grid_template_rows": null,
            "height": null,
            "justify_content": null,
            "justify_items": null,
            "left": null,
            "margin": null,
            "max_height": null,
            "max_width": null,
            "min_height": null,
            "min_width": null,
            "object_fit": null,
            "object_position": null,
            "order": null,
            "overflow": null,
            "overflow_x": null,
            "overflow_y": null,
            "padding": null,
            "right": null,
            "top": null,
            "visibility": null,
            "width": null
          }
        },
        "349579f3b2454907bc946b2ba9ef3186": {
          "model_module": "@jupyter-widgets/controls",
          "model_name": "DescriptionStyleModel",
          "model_module_version": "1.5.0",
          "state": {
            "_model_module": "@jupyter-widgets/controls",
            "_model_module_version": "1.5.0",
            "_model_name": "DescriptionStyleModel",
            "_view_count": null,
            "_view_module": "@jupyter-widgets/base",
            "_view_module_version": "1.2.0",
            "_view_name": "StyleView",
            "description_width": ""
          }
        },
        "95aa0d1374f54975ab2b40c7b699f95a": {
          "model_module": "@jupyter-widgets/base",
          "model_name": "LayoutModel",
          "model_module_version": "1.2.0",
          "state": {
            "_model_module": "@jupyter-widgets/base",
            "_model_module_version": "1.2.0",
            "_model_name": "LayoutModel",
            "_view_count": null,
            "_view_module": "@jupyter-widgets/base",
            "_view_module_version": "1.2.0",
            "_view_name": "LayoutView",
            "align_content": null,
            "align_items": null,
            "align_self": null,
            "border": null,
            "bottom": null,
            "display": null,
            "flex": null,
            "flex_flow": null,
            "grid_area": null,
            "grid_auto_columns": null,
            "grid_auto_flow": null,
            "grid_auto_rows": null,
            "grid_column": null,
            "grid_gap": null,
            "grid_row": null,
            "grid_template_areas": null,
            "grid_template_columns": null,
            "grid_template_rows": null,
            "height": null,
            "justify_content": null,
            "justify_items": null,
            "left": null,
            "margin": null,
            "max_height": null,
            "max_width": null,
            "min_height": null,
            "min_width": null,
            "object_fit": null,
            "object_position": null,
            "order": null,
            "overflow": null,
            "overflow_x": null,
            "overflow_y": null,
            "padding": null,
            "right": null,
            "top": null,
            "visibility": null,
            "width": null
          }
        },
        "92b5ff866ea24895ad7954a9c7de8991": {
          "model_module": "@jupyter-widgets/controls",
          "model_name": "ProgressStyleModel",
          "model_module_version": "1.5.0",
          "state": {
            "_model_module": "@jupyter-widgets/controls",
            "_model_module_version": "1.5.0",
            "_model_name": "ProgressStyleModel",
            "_view_count": null,
            "_view_module": "@jupyter-widgets/base",
            "_view_module_version": "1.2.0",
            "_view_name": "StyleView",
            "bar_color": null,
            "description_width": ""
          }
        },
        "5a32791a71b442e8a4feac948f47a459": {
          "model_module": "@jupyter-widgets/base",
          "model_name": "LayoutModel",
          "model_module_version": "1.2.0",
          "state": {
            "_model_module": "@jupyter-widgets/base",
            "_model_module_version": "1.2.0",
            "_model_name": "LayoutModel",
            "_view_count": null,
            "_view_module": "@jupyter-widgets/base",
            "_view_module_version": "1.2.0",
            "_view_name": "LayoutView",
            "align_content": null,
            "align_items": null,
            "align_self": null,
            "border": null,
            "bottom": null,
            "display": null,
            "flex": null,
            "flex_flow": null,
            "grid_area": null,
            "grid_auto_columns": null,
            "grid_auto_flow": null,
            "grid_auto_rows": null,
            "grid_column": null,
            "grid_gap": null,
            "grid_row": null,
            "grid_template_areas": null,
            "grid_template_columns": null,
            "grid_template_rows": null,
            "height": null,
            "justify_content": null,
            "justify_items": null,
            "left": null,
            "margin": null,
            "max_height": null,
            "max_width": null,
            "min_height": null,
            "min_width": null,
            "object_fit": null,
            "object_position": null,
            "order": null,
            "overflow": null,
            "overflow_x": null,
            "overflow_y": null,
            "padding": null,
            "right": null,
            "top": null,
            "visibility": null,
            "width": null
          }
        },
        "c4468f49fd3b43a395ed4241573df84b": {
          "model_module": "@jupyter-widgets/controls",
          "model_name": "DescriptionStyleModel",
          "model_module_version": "1.5.0",
          "state": {
            "_model_module": "@jupyter-widgets/controls",
            "_model_module_version": "1.5.0",
            "_model_name": "DescriptionStyleModel",
            "_view_count": null,
            "_view_module": "@jupyter-widgets/base",
            "_view_module_version": "1.2.0",
            "_view_name": "StyleView",
            "description_width": ""
          }
        },
        "0677a55b8f38456cadee14e5eabcb6ef": {
          "model_module": "@jupyter-widgets/controls",
          "model_name": "HBoxModel",
          "model_module_version": "1.5.0",
          "state": {
            "_dom_classes": [],
            "_model_module": "@jupyter-widgets/controls",
            "_model_module_version": "1.5.0",
            "_model_name": "HBoxModel",
            "_view_count": null,
            "_view_module": "@jupyter-widgets/controls",
            "_view_module_version": "1.5.0",
            "_view_name": "HBoxView",
            "box_style": "",
            "children": [
              "IPY_MODEL_adb5f516990d4a76acddfdc272e0fc3b",
              "IPY_MODEL_fa5c30762cb744ecacf347092fe07f95",
              "IPY_MODEL_954c6aaf01184458a131e1983263a7a3"
            ],
            "layout": "IPY_MODEL_4c2a5eb4cb2f4bbbb6e06f8bbcaafbb0"
          }
        },
        "adb5f516990d4a76acddfdc272e0fc3b": {
          "model_module": "@jupyter-widgets/controls",
          "model_name": "HTMLModel",
          "model_module_version": "1.5.0",
          "state": {
            "_dom_classes": [],
            "_model_module": "@jupyter-widgets/controls",
            "_model_module_version": "1.5.0",
            "_model_name": "HTMLModel",
            "_view_count": null,
            "_view_module": "@jupyter-widgets/controls",
            "_view_module_version": "1.5.0",
            "_view_name": "HTMLView",
            "description": "",
            "description_tooltip": null,
            "layout": "IPY_MODEL_9ecb1bc9126040bd8ea0ad76386f83de",
            "placeholder": "​",
            "style": "IPY_MODEL_986b90afe45e49ea8847ee37ef1568bc",
            "value": "vocab.json: 100%"
          }
        },
        "fa5c30762cb744ecacf347092fe07f95": {
          "model_module": "@jupyter-widgets/controls",
          "model_name": "FloatProgressModel",
          "model_module_version": "1.5.0",
          "state": {
            "_dom_classes": [],
            "_model_module": "@jupyter-widgets/controls",
            "_model_module_version": "1.5.0",
            "_model_name": "FloatProgressModel",
            "_view_count": null,
            "_view_module": "@jupyter-widgets/controls",
            "_view_module_version": "1.5.0",
            "_view_name": "ProgressView",
            "bar_style": "success",
            "description": "",
            "description_tooltip": null,
            "layout": "IPY_MODEL_57c2f4a857724bea990977c7cedf361a",
            "max": 1042301,
            "min": 0,
            "orientation": "horizontal",
            "style": "IPY_MODEL_453da5df9e2e483d90d7f6b06690f2ef",
            "value": 1042301
          }
        },
        "954c6aaf01184458a131e1983263a7a3": {
          "model_module": "@jupyter-widgets/controls",
          "model_name": "HTMLModel",
          "model_module_version": "1.5.0",
          "state": {
            "_dom_classes": [],
            "_model_module": "@jupyter-widgets/controls",
            "_model_module_version": "1.5.0",
            "_model_name": "HTMLModel",
            "_view_count": null,
            "_view_module": "@jupyter-widgets/controls",
            "_view_module_version": "1.5.0",
            "_view_name": "HTMLView",
            "description": "",
            "description_tooltip": null,
            "layout": "IPY_MODEL_54b80d83d5f244bb92b0c48543272a7d",
            "placeholder": "​",
            "style": "IPY_MODEL_2cfa2dccbb5d49f794c46385d5261bb6",
            "value": " 1.04M/1.04M [00:00&lt;00:00, 5.20MB/s]"
          }
        },
        "4c2a5eb4cb2f4bbbb6e06f8bbcaafbb0": {
          "model_module": "@jupyter-widgets/base",
          "model_name": "LayoutModel",
          "model_module_version": "1.2.0",
          "state": {
            "_model_module": "@jupyter-widgets/base",
            "_model_module_version": "1.2.0",
            "_model_name": "LayoutModel",
            "_view_count": null,
            "_view_module": "@jupyter-widgets/base",
            "_view_module_version": "1.2.0",
            "_view_name": "LayoutView",
            "align_content": null,
            "align_items": null,
            "align_self": null,
            "border": null,
            "bottom": null,
            "display": null,
            "flex": null,
            "flex_flow": null,
            "grid_area": null,
            "grid_auto_columns": null,
            "grid_auto_flow": null,
            "grid_auto_rows": null,
            "grid_column": null,
            "grid_gap": null,
            "grid_row": null,
            "grid_template_areas": null,
            "grid_template_columns": null,
            "grid_template_rows": null,
            "height": null,
            "justify_content": null,
            "justify_items": null,
            "left": null,
            "margin": null,
            "max_height": null,
            "max_width": null,
            "min_height": null,
            "min_width": null,
            "object_fit": null,
            "object_position": null,
            "order": null,
            "overflow": null,
            "overflow_x": null,
            "overflow_y": null,
            "padding": null,
            "right": null,
            "top": null,
            "visibility": null,
            "width": null
          }
        },
        "9ecb1bc9126040bd8ea0ad76386f83de": {
          "model_module": "@jupyter-widgets/base",
          "model_name": "LayoutModel",
          "model_module_version": "1.2.0",
          "state": {
            "_model_module": "@jupyter-widgets/base",
            "_model_module_version": "1.2.0",
            "_model_name": "LayoutModel",
            "_view_count": null,
            "_view_module": "@jupyter-widgets/base",
            "_view_module_version": "1.2.0",
            "_view_name": "LayoutView",
            "align_content": null,
            "align_items": null,
            "align_self": null,
            "border": null,
            "bottom": null,
            "display": null,
            "flex": null,
            "flex_flow": null,
            "grid_area": null,
            "grid_auto_columns": null,
            "grid_auto_flow": null,
            "grid_auto_rows": null,
            "grid_column": null,
            "grid_gap": null,
            "grid_row": null,
            "grid_template_areas": null,
            "grid_template_columns": null,
            "grid_template_rows": null,
            "height": null,
            "justify_content": null,
            "justify_items": null,
            "left": null,
            "margin": null,
            "max_height": null,
            "max_width": null,
            "min_height": null,
            "min_width": null,
            "object_fit": null,
            "object_position": null,
            "order": null,
            "overflow": null,
            "overflow_x": null,
            "overflow_y": null,
            "padding": null,
            "right": null,
            "top": null,
            "visibility": null,
            "width": null
          }
        },
        "986b90afe45e49ea8847ee37ef1568bc": {
          "model_module": "@jupyter-widgets/controls",
          "model_name": "DescriptionStyleModel",
          "model_module_version": "1.5.0",
          "state": {
            "_model_module": "@jupyter-widgets/controls",
            "_model_module_version": "1.5.0",
            "_model_name": "DescriptionStyleModel",
            "_view_count": null,
            "_view_module": "@jupyter-widgets/base",
            "_view_module_version": "1.2.0",
            "_view_name": "StyleView",
            "description_width": ""
          }
        },
        "57c2f4a857724bea990977c7cedf361a": {
          "model_module": "@jupyter-widgets/base",
          "model_name": "LayoutModel",
          "model_module_version": "1.2.0",
          "state": {
            "_model_module": "@jupyter-widgets/base",
            "_model_module_version": "1.2.0",
            "_model_name": "LayoutModel",
            "_view_count": null,
            "_view_module": "@jupyter-widgets/base",
            "_view_module_version": "1.2.0",
            "_view_name": "LayoutView",
            "align_content": null,
            "align_items": null,
            "align_self": null,
            "border": null,
            "bottom": null,
            "display": null,
            "flex": null,
            "flex_flow": null,
            "grid_area": null,
            "grid_auto_columns": null,
            "grid_auto_flow": null,
            "grid_auto_rows": null,
            "grid_column": null,
            "grid_gap": null,
            "grid_row": null,
            "grid_template_areas": null,
            "grid_template_columns": null,
            "grid_template_rows": null,
            "height": null,
            "justify_content": null,
            "justify_items": null,
            "left": null,
            "margin": null,
            "max_height": null,
            "max_width": null,
            "min_height": null,
            "min_width": null,
            "object_fit": null,
            "object_position": null,
            "order": null,
            "overflow": null,
            "overflow_x": null,
            "overflow_y": null,
            "padding": null,
            "right": null,
            "top": null,
            "visibility": null,
            "width": null
          }
        },
        "453da5df9e2e483d90d7f6b06690f2ef": {
          "model_module": "@jupyter-widgets/controls",
          "model_name": "ProgressStyleModel",
          "model_module_version": "1.5.0",
          "state": {
            "_model_module": "@jupyter-widgets/controls",
            "_model_module_version": "1.5.0",
            "_model_name": "ProgressStyleModel",
            "_view_count": null,
            "_view_module": "@jupyter-widgets/base",
            "_view_module_version": "1.2.0",
            "_view_name": "StyleView",
            "bar_color": null,
            "description_width": ""
          }
        },
        "54b80d83d5f244bb92b0c48543272a7d": {
          "model_module": "@jupyter-widgets/base",
          "model_name": "LayoutModel",
          "model_module_version": "1.2.0",
          "state": {
            "_model_module": "@jupyter-widgets/base",
            "_model_module_version": "1.2.0",
            "_model_name": "LayoutModel",
            "_view_count": null,
            "_view_module": "@jupyter-widgets/base",
            "_view_module_version": "1.2.0",
            "_view_name": "LayoutView",
            "align_content": null,
            "align_items": null,
            "align_self": null,
            "border": null,
            "bottom": null,
            "display": null,
            "flex": null,
            "flex_flow": null,
            "grid_area": null,
            "grid_auto_columns": null,
            "grid_auto_flow": null,
            "grid_auto_rows": null,
            "grid_column": null,
            "grid_gap": null,
            "grid_row": null,
            "grid_template_areas": null,
            "grid_template_columns": null,
            "grid_template_rows": null,
            "height": null,
            "justify_content": null,
            "justify_items": null,
            "left": null,
            "margin": null,
            "max_height": null,
            "max_width": null,
            "min_height": null,
            "min_width": null,
            "object_fit": null,
            "object_position": null,
            "order": null,
            "overflow": null,
            "overflow_x": null,
            "overflow_y": null,
            "padding": null,
            "right": null,
            "top": null,
            "visibility": null,
            "width": null
          }
        },
        "2cfa2dccbb5d49f794c46385d5261bb6": {
          "model_module": "@jupyter-widgets/controls",
          "model_name": "DescriptionStyleModel",
          "model_module_version": "1.5.0",
          "state": {
            "_model_module": "@jupyter-widgets/controls",
            "_model_module_version": "1.5.0",
            "_model_name": "DescriptionStyleModel",
            "_view_count": null,
            "_view_module": "@jupyter-widgets/base",
            "_view_module_version": "1.2.0",
            "_view_name": "StyleView",
            "description_width": ""
          }
        },
        "8714952651bf470aae9140a12391ba06": {
          "model_module": "@jupyter-widgets/controls",
          "model_name": "HBoxModel",
          "model_module_version": "1.5.0",
          "state": {
            "_dom_classes": [],
            "_model_module": "@jupyter-widgets/controls",
            "_model_module_version": "1.5.0",
            "_model_name": "HBoxModel",
            "_view_count": null,
            "_view_module": "@jupyter-widgets/controls",
            "_view_module_version": "1.5.0",
            "_view_name": "HBoxView",
            "box_style": "",
            "children": [
              "IPY_MODEL_dc1114de0071445b8dbe14f15c948955",
              "IPY_MODEL_7846c438e0d5404796cad5485542f15c",
              "IPY_MODEL_759138b66e584f4090c3e3875f39e51c"
            ],
            "layout": "IPY_MODEL_1308076e2bba407787915584ad83b6ee"
          }
        },
        "dc1114de0071445b8dbe14f15c948955": {
          "model_module": "@jupyter-widgets/controls",
          "model_name": "HTMLModel",
          "model_module_version": "1.5.0",
          "state": {
            "_dom_classes": [],
            "_model_module": "@jupyter-widgets/controls",
            "_model_module_version": "1.5.0",
            "_model_name": "HTMLModel",
            "_view_count": null,
            "_view_module": "@jupyter-widgets/controls",
            "_view_module_version": "1.5.0",
            "_view_name": "HTMLView",
            "description": "",
            "description_tooltip": null,
            "layout": "IPY_MODEL_bd6cf84681e74b79ad66d709f1563a3e",
            "placeholder": "​",
            "style": "IPY_MODEL_0677b7f4858d4fa892c08b071868b34a",
            "value": "merges.txt: 100%"
          }
        },
        "7846c438e0d5404796cad5485542f15c": {
          "model_module": "@jupyter-widgets/controls",
          "model_name": "FloatProgressModel",
          "model_module_version": "1.5.0",
          "state": {
            "_dom_classes": [],
            "_model_module": "@jupyter-widgets/controls",
            "_model_module_version": "1.5.0",
            "_model_name": "FloatProgressModel",
            "_view_count": null,
            "_view_module": "@jupyter-widgets/controls",
            "_view_module_version": "1.5.0",
            "_view_name": "ProgressView",
            "bar_style": "success",
            "description": "",
            "description_tooltip": null,
            "layout": "IPY_MODEL_2a09d34c2f474e2592bd8e682c447d5b",
            "max": 456318,
            "min": 0,
            "orientation": "horizontal",
            "style": "IPY_MODEL_4f6e41232b854d2f95b9520ce7d067d4",
            "value": 456318
          }
        },
        "759138b66e584f4090c3e3875f39e51c": {
          "model_module": "@jupyter-widgets/controls",
          "model_name": "HTMLModel",
          "model_module_version": "1.5.0",
          "state": {
            "_dom_classes": [],
            "_model_module": "@jupyter-widgets/controls",
            "_model_module_version": "1.5.0",
            "_model_name": "HTMLModel",
            "_view_count": null,
            "_view_module": "@jupyter-widgets/controls",
            "_view_module_version": "1.5.0",
            "_view_name": "HTMLView",
            "description": "",
            "description_tooltip": null,
            "layout": "IPY_MODEL_f48fd3b7f50342999e8d42b0143d0771",
            "placeholder": "​",
            "style": "IPY_MODEL_758c27b833f1438c82c4a111c7bd3810",
            "value": " 456k/456k [00:00&lt;00:00, 3.41MB/s]"
          }
        },
        "1308076e2bba407787915584ad83b6ee": {
          "model_module": "@jupyter-widgets/base",
          "model_name": "LayoutModel",
          "model_module_version": "1.2.0",
          "state": {
            "_model_module": "@jupyter-widgets/base",
            "_model_module_version": "1.2.0",
            "_model_name": "LayoutModel",
            "_view_count": null,
            "_view_module": "@jupyter-widgets/base",
            "_view_module_version": "1.2.0",
            "_view_name": "LayoutView",
            "align_content": null,
            "align_items": null,
            "align_self": null,
            "border": null,
            "bottom": null,
            "display": null,
            "flex": null,
            "flex_flow": null,
            "grid_area": null,
            "grid_auto_columns": null,
            "grid_auto_flow": null,
            "grid_auto_rows": null,
            "grid_column": null,
            "grid_gap": null,
            "grid_row": null,
            "grid_template_areas": null,
            "grid_template_columns": null,
            "grid_template_rows": null,
            "height": null,
            "justify_content": null,
            "justify_items": null,
            "left": null,
            "margin": null,
            "max_height": null,
            "max_width": null,
            "min_height": null,
            "min_width": null,
            "object_fit": null,
            "object_position": null,
            "order": null,
            "overflow": null,
            "overflow_x": null,
            "overflow_y": null,
            "padding": null,
            "right": null,
            "top": null,
            "visibility": null,
            "width": null
          }
        },
        "bd6cf84681e74b79ad66d709f1563a3e": {
          "model_module": "@jupyter-widgets/base",
          "model_name": "LayoutModel",
          "model_module_version": "1.2.0",
          "state": {
            "_model_module": "@jupyter-widgets/base",
            "_model_module_version": "1.2.0",
            "_model_name": "LayoutModel",
            "_view_count": null,
            "_view_module": "@jupyter-widgets/base",
            "_view_module_version": "1.2.0",
            "_view_name": "LayoutView",
            "align_content": null,
            "align_items": null,
            "align_self": null,
            "border": null,
            "bottom": null,
            "display": null,
            "flex": null,
            "flex_flow": null,
            "grid_area": null,
            "grid_auto_columns": null,
            "grid_auto_flow": null,
            "grid_auto_rows": null,
            "grid_column": null,
            "grid_gap": null,
            "grid_row": null,
            "grid_template_areas": null,
            "grid_template_columns": null,
            "grid_template_rows": null,
            "height": null,
            "justify_content": null,
            "justify_items": null,
            "left": null,
            "margin": null,
            "max_height": null,
            "max_width": null,
            "min_height": null,
            "min_width": null,
            "object_fit": null,
            "object_position": null,
            "order": null,
            "overflow": null,
            "overflow_x": null,
            "overflow_y": null,
            "padding": null,
            "right": null,
            "top": null,
            "visibility": null,
            "width": null
          }
        },
        "0677b7f4858d4fa892c08b071868b34a": {
          "model_module": "@jupyter-widgets/controls",
          "model_name": "DescriptionStyleModel",
          "model_module_version": "1.5.0",
          "state": {
            "_model_module": "@jupyter-widgets/controls",
            "_model_module_version": "1.5.0",
            "_model_name": "DescriptionStyleModel",
            "_view_count": null,
            "_view_module": "@jupyter-widgets/base",
            "_view_module_version": "1.2.0",
            "_view_name": "StyleView",
            "description_width": ""
          }
        },
        "2a09d34c2f474e2592bd8e682c447d5b": {
          "model_module": "@jupyter-widgets/base",
          "model_name": "LayoutModel",
          "model_module_version": "1.2.0",
          "state": {
            "_model_module": "@jupyter-widgets/base",
            "_model_module_version": "1.2.0",
            "_model_name": "LayoutModel",
            "_view_count": null,
            "_view_module": "@jupyter-widgets/base",
            "_view_module_version": "1.2.0",
            "_view_name": "LayoutView",
            "align_content": null,
            "align_items": null,
            "align_self": null,
            "border": null,
            "bottom": null,
            "display": null,
            "flex": null,
            "flex_flow": null,
            "grid_area": null,
            "grid_auto_columns": null,
            "grid_auto_flow": null,
            "grid_auto_rows": null,
            "grid_column": null,
            "grid_gap": null,
            "grid_row": null,
            "grid_template_areas": null,
            "grid_template_columns": null,
            "grid_template_rows": null,
            "height": null,
            "justify_content": null,
            "justify_items": null,
            "left": null,
            "margin": null,
            "max_height": null,
            "max_width": null,
            "min_height": null,
            "min_width": null,
            "object_fit": null,
            "object_position": null,
            "order": null,
            "overflow": null,
            "overflow_x": null,
            "overflow_y": null,
            "padding": null,
            "right": null,
            "top": null,
            "visibility": null,
            "width": null
          }
        },
        "4f6e41232b854d2f95b9520ce7d067d4": {
          "model_module": "@jupyter-widgets/controls",
          "model_name": "ProgressStyleModel",
          "model_module_version": "1.5.0",
          "state": {
            "_model_module": "@jupyter-widgets/controls",
            "_model_module_version": "1.5.0",
            "_model_name": "ProgressStyleModel",
            "_view_count": null,
            "_view_module": "@jupyter-widgets/base",
            "_view_module_version": "1.2.0",
            "_view_name": "StyleView",
            "bar_color": null,
            "description_width": ""
          }
        },
        "f48fd3b7f50342999e8d42b0143d0771": {
          "model_module": "@jupyter-widgets/base",
          "model_name": "LayoutModel",
          "model_module_version": "1.2.0",
          "state": {
            "_model_module": "@jupyter-widgets/base",
            "_model_module_version": "1.2.0",
            "_model_name": "LayoutModel",
            "_view_count": null,
            "_view_module": "@jupyter-widgets/base",
            "_view_module_version": "1.2.0",
            "_view_name": "LayoutView",
            "align_content": null,
            "align_items": null,
            "align_self": null,
            "border": null,
            "bottom": null,
            "display": null,
            "flex": null,
            "flex_flow": null,
            "grid_area": null,
            "grid_auto_columns": null,
            "grid_auto_flow": null,
            "grid_auto_rows": null,
            "grid_column": null,
            "grid_gap": null,
            "grid_row": null,
            "grid_template_areas": null,
            "grid_template_columns": null,
            "grid_template_rows": null,
            "height": null,
            "justify_content": null,
            "justify_items": null,
            "left": null,
            "margin": null,
            "max_height": null,
            "max_width": null,
            "min_height": null,
            "min_width": null,
            "object_fit": null,
            "object_position": null,
            "order": null,
            "overflow": null,
            "overflow_x": null,
            "overflow_y": null,
            "padding": null,
            "right": null,
            "top": null,
            "visibility": null,
            "width": null
          }
        },
        "758c27b833f1438c82c4a111c7bd3810": {
          "model_module": "@jupyter-widgets/controls",
          "model_name": "DescriptionStyleModel",
          "model_module_version": "1.5.0",
          "state": {
            "_model_module": "@jupyter-widgets/controls",
            "_model_module_version": "1.5.0",
            "_model_name": "DescriptionStyleModel",
            "_view_count": null,
            "_view_module": "@jupyter-widgets/base",
            "_view_module_version": "1.2.0",
            "_view_name": "StyleView",
            "description_width": ""
          }
        },
        "b3407ab9b360460a89a328b08ea4419b": {
          "model_module": "@jupyter-widgets/controls",
          "model_name": "HBoxModel",
          "model_module_version": "1.5.0",
          "state": {
            "_dom_classes": [],
            "_model_module": "@jupyter-widgets/controls",
            "_model_module_version": "1.5.0",
            "_model_name": "HBoxModel",
            "_view_count": null,
            "_view_module": "@jupyter-widgets/controls",
            "_view_module_version": "1.5.0",
            "_view_name": "HBoxView",
            "box_style": "",
            "children": [
              "IPY_MODEL_2fcb7361afc4491b990c67aaee70ed87",
              "IPY_MODEL_dc6b290e9ceb4472bd7289ce933ea8bb",
              "IPY_MODEL_d6d01443425547f19f9a13395eb4cde1"
            ],
            "layout": "IPY_MODEL_4f87e84958f343f9b853ee33bb9420b8"
          }
        },
        "2fcb7361afc4491b990c67aaee70ed87": {
          "model_module": "@jupyter-widgets/controls",
          "model_name": "HTMLModel",
          "model_module_version": "1.5.0",
          "state": {
            "_dom_classes": [],
            "_model_module": "@jupyter-widgets/controls",
            "_model_module_version": "1.5.0",
            "_model_name": "HTMLModel",
            "_view_count": null,
            "_view_module": "@jupyter-widgets/controls",
            "_view_module_version": "1.5.0",
            "_view_name": "HTMLView",
            "description": "",
            "description_tooltip": null,
            "layout": "IPY_MODEL_009b58817edf494cb02dfde6a50d966c",
            "placeholder": "​",
            "style": "IPY_MODEL_0026b48d472446d381169d7a1dc06915",
            "value": "tokenizer.json: 100%"
          }
        },
        "dc6b290e9ceb4472bd7289ce933ea8bb": {
          "model_module": "@jupyter-widgets/controls",
          "model_name": "FloatProgressModel",
          "model_module_version": "1.5.0",
          "state": {
            "_dom_classes": [],
            "_model_module": "@jupyter-widgets/controls",
            "_model_module_version": "1.5.0",
            "_model_name": "FloatProgressModel",
            "_view_count": null,
            "_view_module": "@jupyter-widgets/controls",
            "_view_module_version": "1.5.0",
            "_view_name": "ProgressView",
            "bar_style": "success",
            "description": "",
            "description_tooltip": null,
            "layout": "IPY_MODEL_78f69b89a5154ef1868512481362c64b",
            "max": 1355256,
            "min": 0,
            "orientation": "horizontal",
            "style": "IPY_MODEL_b35707cd4c014433a27cd5ce0f4d2263",
            "value": 1355256
          }
        },
        "d6d01443425547f19f9a13395eb4cde1": {
          "model_module": "@jupyter-widgets/controls",
          "model_name": "HTMLModel",
          "model_module_version": "1.5.0",
          "state": {
            "_dom_classes": [],
            "_model_module": "@jupyter-widgets/controls",
            "_model_module_version": "1.5.0",
            "_model_name": "HTMLModel",
            "_view_count": null,
            "_view_module": "@jupyter-widgets/controls",
            "_view_module_version": "1.5.0",
            "_view_name": "HTMLView",
            "description": "",
            "description_tooltip": null,
            "layout": "IPY_MODEL_a10ed609cc6a49f2aa76933d906c0925",
            "placeholder": "​",
            "style": "IPY_MODEL_4c24ed7057e6424eb1d15dc66c61e0d8",
            "value": " 1.36M/1.36M [00:00&lt;00:00, 8.74MB/s]"
          }
        },
        "4f87e84958f343f9b853ee33bb9420b8": {
          "model_module": "@jupyter-widgets/base",
          "model_name": "LayoutModel",
          "model_module_version": "1.2.0",
          "state": {
            "_model_module": "@jupyter-widgets/base",
            "_model_module_version": "1.2.0",
            "_model_name": "LayoutModel",
            "_view_count": null,
            "_view_module": "@jupyter-widgets/base",
            "_view_module_version": "1.2.0",
            "_view_name": "LayoutView",
            "align_content": null,
            "align_items": null,
            "align_self": null,
            "border": null,
            "bottom": null,
            "display": null,
            "flex": null,
            "flex_flow": null,
            "grid_area": null,
            "grid_auto_columns": null,
            "grid_auto_flow": null,
            "grid_auto_rows": null,
            "grid_column": null,
            "grid_gap": null,
            "grid_row": null,
            "grid_template_areas": null,
            "grid_template_columns": null,
            "grid_template_rows": null,
            "height": null,
            "justify_content": null,
            "justify_items": null,
            "left": null,
            "margin": null,
            "max_height": null,
            "max_width": null,
            "min_height": null,
            "min_width": null,
            "object_fit": null,
            "object_position": null,
            "order": null,
            "overflow": null,
            "overflow_x": null,
            "overflow_y": null,
            "padding": null,
            "right": null,
            "top": null,
            "visibility": null,
            "width": null
          }
        },
        "009b58817edf494cb02dfde6a50d966c": {
          "model_module": "@jupyter-widgets/base",
          "model_name": "LayoutModel",
          "model_module_version": "1.2.0",
          "state": {
            "_model_module": "@jupyter-widgets/base",
            "_model_module_version": "1.2.0",
            "_model_name": "LayoutModel",
            "_view_count": null,
            "_view_module": "@jupyter-widgets/base",
            "_view_module_version": "1.2.0",
            "_view_name": "LayoutView",
            "align_content": null,
            "align_items": null,
            "align_self": null,
            "border": null,
            "bottom": null,
            "display": null,
            "flex": null,
            "flex_flow": null,
            "grid_area": null,
            "grid_auto_columns": null,
            "grid_auto_flow": null,
            "grid_auto_rows": null,
            "grid_column": null,
            "grid_gap": null,
            "grid_row": null,
            "grid_template_areas": null,
            "grid_template_columns": null,
            "grid_template_rows": null,
            "height": null,
            "justify_content": null,
            "justify_items": null,
            "left": null,
            "margin": null,
            "max_height": null,
            "max_width": null,
            "min_height": null,
            "min_width": null,
            "object_fit": null,
            "object_position": null,
            "order": null,
            "overflow": null,
            "overflow_x": null,
            "overflow_y": null,
            "padding": null,
            "right": null,
            "top": null,
            "visibility": null,
            "width": null
          }
        },
        "0026b48d472446d381169d7a1dc06915": {
          "model_module": "@jupyter-widgets/controls",
          "model_name": "DescriptionStyleModel",
          "model_module_version": "1.5.0",
          "state": {
            "_model_module": "@jupyter-widgets/controls",
            "_model_module_version": "1.5.0",
            "_model_name": "DescriptionStyleModel",
            "_view_count": null,
            "_view_module": "@jupyter-widgets/base",
            "_view_module_version": "1.2.0",
            "_view_name": "StyleView",
            "description_width": ""
          }
        },
        "78f69b89a5154ef1868512481362c64b": {
          "model_module": "@jupyter-widgets/base",
          "model_name": "LayoutModel",
          "model_module_version": "1.2.0",
          "state": {
            "_model_module": "@jupyter-widgets/base",
            "_model_module_version": "1.2.0",
            "_model_name": "LayoutModel",
            "_view_count": null,
            "_view_module": "@jupyter-widgets/base",
            "_view_module_version": "1.2.0",
            "_view_name": "LayoutView",
            "align_content": null,
            "align_items": null,
            "align_self": null,
            "border": null,
            "bottom": null,
            "display": null,
            "flex": null,
            "flex_flow": null,
            "grid_area": null,
            "grid_auto_columns": null,
            "grid_auto_flow": null,
            "grid_auto_rows": null,
            "grid_column": null,
            "grid_gap": null,
            "grid_row": null,
            "grid_template_areas": null,
            "grid_template_columns": null,
            "grid_template_rows": null,
            "height": null,
            "justify_content": null,
            "justify_items": null,
            "left": null,
            "margin": null,
            "max_height": null,
            "max_width": null,
            "min_height": null,
            "min_width": null,
            "object_fit": null,
            "object_position": null,
            "order": null,
            "overflow": null,
            "overflow_x": null,
            "overflow_y": null,
            "padding": null,
            "right": null,
            "top": null,
            "visibility": null,
            "width": null
          }
        },
        "b35707cd4c014433a27cd5ce0f4d2263": {
          "model_module": "@jupyter-widgets/controls",
          "model_name": "ProgressStyleModel",
          "model_module_version": "1.5.0",
          "state": {
            "_model_module": "@jupyter-widgets/controls",
            "_model_module_version": "1.5.0",
            "_model_name": "ProgressStyleModel",
            "_view_count": null,
            "_view_module": "@jupyter-widgets/base",
            "_view_module_version": "1.2.0",
            "_view_name": "StyleView",
            "bar_color": null,
            "description_width": ""
          }
        },
        "a10ed609cc6a49f2aa76933d906c0925": {
          "model_module": "@jupyter-widgets/base",
          "model_name": "LayoutModel",
          "model_module_version": "1.2.0",
          "state": {
            "_model_module": "@jupyter-widgets/base",
            "_model_module_version": "1.2.0",
            "_model_name": "LayoutModel",
            "_view_count": null,
            "_view_module": "@jupyter-widgets/base",
            "_view_module_version": "1.2.0",
            "_view_name": "LayoutView",
            "align_content": null,
            "align_items": null,
            "align_self": null,
            "border": null,
            "bottom": null,
            "display": null,
            "flex": null,
            "flex_flow": null,
            "grid_area": null,
            "grid_auto_columns": null,
            "grid_auto_flow": null,
            "grid_auto_rows": null,
            "grid_column": null,
            "grid_gap": null,
            "grid_row": null,
            "grid_template_areas": null,
            "grid_template_columns": null,
            "grid_template_rows": null,
            "height": null,
            "justify_content": null,
            "justify_items": null,
            "left": null,
            "margin": null,
            "max_height": null,
            "max_width": null,
            "min_height": null,
            "min_width": null,
            "object_fit": null,
            "object_position": null,
            "order": null,
            "overflow": null,
            "overflow_x": null,
            "overflow_y": null,
            "padding": null,
            "right": null,
            "top": null,
            "visibility": null,
            "width": null
          }
        },
        "4c24ed7057e6424eb1d15dc66c61e0d8": {
          "model_module": "@jupyter-widgets/controls",
          "model_name": "DescriptionStyleModel",
          "model_module_version": "1.5.0",
          "state": {
            "_model_module": "@jupyter-widgets/controls",
            "_model_module_version": "1.5.0",
            "_model_name": "DescriptionStyleModel",
            "_view_count": null,
            "_view_module": "@jupyter-widgets/base",
            "_view_module_version": "1.2.0",
            "_view_name": "StyleView",
            "description_width": ""
          }
        }
      }
    }
  },
  "nbformat": 4,
  "nbformat_minor": 0
}